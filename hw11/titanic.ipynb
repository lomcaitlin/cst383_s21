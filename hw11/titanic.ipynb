{
 "cells": [
  {
   "cell_type": "markdown",
   "metadata": {
    "id": "JfdGKb7UhOhy"
   },
   "source": [
    "# Predicting Titanic Survivors"
   ]
  },
  {
   "cell_type": "markdown",
   "metadata": {
    "id": "9pNsh3iEhOh4"
   },
   "source": [
    "#### Keiti Lo"
   ]
  },
  {
   "cell_type": "markdown",
   "metadata": {
    "id": "4jGwIvoYhOh5"
   },
   "source": [
    "## Introduction\n",
    "This data set contains data about the passengers on the Titanic before it sank. I will be predicting passengers' survival using classification trees, based on the data like sex, age, ticket class (pclass), cabin, etc. I will be tuning the classification trees using grid search, cross validation, and learning curves."
   ]
  },
  {
   "cell_type": "code",
   "execution_count": 260,
   "metadata": {
    "id": "GqSpH1WyhOh6"
   },
   "outputs": [],
   "source": [
    "import numpy as np\n",
    "import pandas as pd\n",
    "import matplotlib.pyplot as plt\n",
    "import seaborn as sns        \n",
    "from sklearn.model_selection import train_test_split, GridSearchCV, learning_curve\n",
    "from sklearn.metrics import confusion_matrix\n",
    "from sklearn.tree import DecisionTreeClassifier, export_graphviz\n",
    "import graphviz"
   ]
  },
  {
   "cell_type": "markdown",
   "metadata": {
    "id": "Rb12PfaFhOh6"
   },
   "source": [
    "## Reading and preprocessing the data"
   ]
  },
  {
   "cell_type": "markdown",
   "metadata": {
    "id": "82bs55OlhOh7"
   },
   "source": [
    "### Read the data"
   ]
  },
  {
   "cell_type": "code",
   "execution_count": 215,
   "metadata": {
    "id": "z_4Vou1ahOh7"
   },
   "outputs": [],
   "source": [
    "input_file = \"https://raw.githubusercontent.com/grbruns/cst383/master/titanic.csv\"\n",
    "df = pd.read_csv(input_file)"
   ]
  },
  {
   "cell_type": "markdown",
   "metadata": {
    "id": "n5pPQlt0hOh7"
   },
   "source": [
    "### Preprocessing"
   ]
  },
  {
   "cell_type": "code",
   "execution_count": 216,
   "metadata": {
    "id": "Bu23Fl_1hOh7"
   },
   "outputs": [
    {
     "name": "stdout",
     "output_type": "stream",
     "text": [
      "<class 'pandas.core.frame.DataFrame'>\n",
      "Int64Index: 889 entries, 0 to 890\n",
      "Data columns (total 11 columns):\n",
      " #   Column    Non-Null Count  Dtype  \n",
      "---  ------    --------------  -----  \n",
      " 0   Survived  889 non-null    int64  \n",
      " 1   Pclass    889 non-null    int64  \n",
      " 2   Sex       889 non-null    object \n",
      " 3   Age       889 non-null    float64\n",
      " 4   SibSp     889 non-null    int64  \n",
      " 5   Parch     889 non-null    int64  \n",
      " 6   Ticket    889 non-null    object \n",
      " 7   Fare      889 non-null    float64\n",
      " 8   Cabin     889 non-null    object \n",
      " 9   Embarked  889 non-null    object \n",
      " 10  Title     889 non-null    object \n",
      "dtypes: float64(2), int64(4), object(5)\n",
      "memory usage: 83.3+ KB\n"
     ]
    }
   ],
   "source": [
    "# column PassengerId\n",
    "# a unique numeric passenger ID; not needed\n",
    "df.drop('PassengerId', axis=1, inplace=True)\n",
    "\n",
    "# column Cabin\n",
    "# use only first letter of Cabin\n",
    "df['Cabin'] = df['Cabin'].str.slice(stop=1)\n",
    "df['Cabin'].fillna('U', inplace=True)\n",
    "\n",
    "# column Ticket\n",
    "# use two categories: tickets containing letters and\n",
    "# tickets containing only digits\n",
    "df['Ticket'] = df['Ticket'].str.contains('[a-zA-Z]')\n",
    "\n",
    "# column Embarked\n",
    "# hardly any NA embarked values, so drop rows containing them\n",
    "df.dropna(subset=['Embarked'], inplace=True)\n",
    "\n",
    "# column Name\n",
    "# retain only the title of the name, if present\n",
    "def extract_title(s):\n",
    "    titles = ['Mr.', 'Mrs.', 'Miss.', 'Master.', 'Dr.']\n",
    "    for title in titles:\n",
    "        if title in s:\n",
    "            return title\n",
    "    return 'NoTitle'\n",
    "\n",
    "df['Title'] = df['Name'].apply(extract_title)\n",
    "df.drop('Name', axis=1, inplace=True)\n",
    "\n",
    "# column Age\n",
    "# fill with median value\n",
    "df['Age'].fillna(df['Age'].median(), inplace=True)\n",
    "\n",
    "# column Parch (number of parents and children)\n",
    "# convert from object to numeric\n",
    "df['Parch'] = df['Parch'].astype(int)\n",
    "\n",
    "# column Pclass (1, 2, 3)\n",
    "df['Pclass'] = df['Pclass'].astype(int)\n",
    "\n",
    "# column Fare\n",
    "df['Fare'] = df['Fare'].astype(float)\n",
    "\n",
    "# confirm that no NA values remain\n",
    "df.isna().mean()\n",
    "df.info()"
   ]
  },
  {
   "cell_type": "markdown",
   "metadata": {
    "id": "CdYpO4q9hOh8"
   },
   "source": [
    "## Initial data exploration"
   ]
  },
  {
   "cell_type": "code",
   "execution_count": 198,
   "metadata": {
    "id": "7f19mUCUhOh8"
   },
   "outputs": [
    {
     "data": {
      "text/html": [
       "<div>\n",
       "<style scoped>\n",
       "    .dataframe tbody tr th:only-of-type {\n",
       "        vertical-align: middle;\n",
       "    }\n",
       "\n",
       "    .dataframe tbody tr th {\n",
       "        vertical-align: top;\n",
       "    }\n",
       "\n",
       "    .dataframe thead th {\n",
       "        text-align: right;\n",
       "    }\n",
       "</style>\n",
       "<table border=\"1\" class=\"dataframe\">\n",
       "  <thead>\n",
       "    <tr style=\"text-align: right;\">\n",
       "      <th></th>\n",
       "      <th>Survived</th>\n",
       "      <th>Pclass</th>\n",
       "      <th>Age</th>\n",
       "      <th>SibSp</th>\n",
       "      <th>Parch</th>\n",
       "      <th>Fare</th>\n",
       "    </tr>\n",
       "  </thead>\n",
       "  <tbody>\n",
       "    <tr>\n",
       "      <th>count</th>\n",
       "      <td>889.000000</td>\n",
       "      <td>889.000000</td>\n",
       "      <td>889.000000</td>\n",
       "      <td>889.000000</td>\n",
       "      <td>889.000000</td>\n",
       "      <td>889.000000</td>\n",
       "    </tr>\n",
       "    <tr>\n",
       "      <th>mean</th>\n",
       "      <td>0.382452</td>\n",
       "      <td>2.311586</td>\n",
       "      <td>29.315152</td>\n",
       "      <td>0.524184</td>\n",
       "      <td>0.382452</td>\n",
       "      <td>32.096681</td>\n",
       "    </tr>\n",
       "    <tr>\n",
       "      <th>std</th>\n",
       "      <td>0.486260</td>\n",
       "      <td>0.834700</td>\n",
       "      <td>12.984932</td>\n",
       "      <td>1.103705</td>\n",
       "      <td>0.806761</td>\n",
       "      <td>49.697504</td>\n",
       "    </tr>\n",
       "    <tr>\n",
       "      <th>min</th>\n",
       "      <td>0.000000</td>\n",
       "      <td>1.000000</td>\n",
       "      <td>0.420000</td>\n",
       "      <td>0.000000</td>\n",
       "      <td>0.000000</td>\n",
       "      <td>0.000000</td>\n",
       "    </tr>\n",
       "    <tr>\n",
       "      <th>25%</th>\n",
       "      <td>0.000000</td>\n",
       "      <td>2.000000</td>\n",
       "      <td>22.000000</td>\n",
       "      <td>0.000000</td>\n",
       "      <td>0.000000</td>\n",
       "      <td>7.895800</td>\n",
       "    </tr>\n",
       "    <tr>\n",
       "      <th>50%</th>\n",
       "      <td>0.000000</td>\n",
       "      <td>3.000000</td>\n",
       "      <td>28.000000</td>\n",
       "      <td>0.000000</td>\n",
       "      <td>0.000000</td>\n",
       "      <td>14.454200</td>\n",
       "    </tr>\n",
       "    <tr>\n",
       "      <th>75%</th>\n",
       "      <td>1.000000</td>\n",
       "      <td>3.000000</td>\n",
       "      <td>35.000000</td>\n",
       "      <td>1.000000</td>\n",
       "      <td>0.000000</td>\n",
       "      <td>31.000000</td>\n",
       "    </tr>\n",
       "    <tr>\n",
       "      <th>max</th>\n",
       "      <td>1.000000</td>\n",
       "      <td>3.000000</td>\n",
       "      <td>80.000000</td>\n",
       "      <td>8.000000</td>\n",
       "      <td>6.000000</td>\n",
       "      <td>512.329200</td>\n",
       "    </tr>\n",
       "  </tbody>\n",
       "</table>\n",
       "</div>"
      ],
      "text/plain": [
       "         Survived      Pclass         Age       SibSp       Parch        Fare\n",
       "count  889.000000  889.000000  889.000000  889.000000  889.000000  889.000000\n",
       "mean     0.382452    2.311586   29.315152    0.524184    0.382452   32.096681\n",
       "std      0.486260    0.834700   12.984932    1.103705    0.806761   49.697504\n",
       "min      0.000000    1.000000    0.420000    0.000000    0.000000    0.000000\n",
       "25%      0.000000    2.000000   22.000000    0.000000    0.000000    7.895800\n",
       "50%      0.000000    3.000000   28.000000    0.000000    0.000000   14.454200\n",
       "75%      1.000000    3.000000   35.000000    1.000000    0.000000   31.000000\n",
       "max      1.000000    3.000000   80.000000    8.000000    6.000000  512.329200"
      ]
     },
     "execution_count": 198,
     "metadata": {},
     "output_type": "execute_result"
    }
   ],
   "source": [
    "df.describe()"
   ]
  },
  {
   "cell_type": "markdown",
   "metadata": {
    "id": "OzWg0k_NhOh8"
   },
   "source": [
    "This classification of variables into categorical or numeric looks only at their types."
   ]
  },
  {
   "cell_type": "code",
   "execution_count": 199,
   "metadata": {
    "id": "DXFvnpCLhOh8"
   },
   "outputs": [
    {
     "name": "stdout",
     "output_type": "stream",
     "text": [
      "Categorical variables: ['Sex', 'Ticket', 'Cabin', 'Embarked', 'Title']\n",
      "Numeric variables: ['Survived', 'Pclass', 'Age', 'SibSp', 'Parch', 'Fare']\n"
     ]
    }
   ],
   "source": [
    "cat_vars = df.columns[df.dtypes == object].tolist()\n",
    "print('Categorical variables: {}'.format(cat_vars))\n",
    "\n",
    "num_vars = df.columns[df.dtypes != object].tolist()\n",
    "print('Numeric variables: {}'.format(num_vars))"
   ]
  },
  {
   "cell_type": "markdown",
   "metadata": {
    "id": "6LJElB7UhOh9"
   },
   "source": [
    "#### Value counts for categorical variables"
   ]
  },
  {
   "cell_type": "code",
   "execution_count": 200,
   "metadata": {
    "id": "t_sy-4ZshOh9"
   },
   "outputs": [
    {
     "data": {
      "image/png": "[encoded data removed]",
      "text/plain": [
       "<Figure size 864x576 with 5 Axes>"
      ]
     },
     "metadata": {
      "needs_background": "light"
     },
     "output_type": "display_data"
    }
   ],
   "source": [
    "# from our textbook\n",
    "# https://jakevdp.github.io/PythonDataScienceHandbook/04.08-multiple-subplots.html\n",
    "fig = plt.figure(figsize=(12,8))\n",
    "fig.subplots_adjust(hspace=0.3, wspace=0.3)   # adjust distance between plots\n",
    "for i in range(1, len(cat_vars)+1):\n",
    "    plt.subplot(2, 3, i)\n",
    "    var = cat_vars[i-1]\n",
    "    df[var].value_counts().plot.bar()\n",
    "    plt.title(var);"
   ]
  },
  {
   "cell_type": "markdown",
   "metadata": {
    "id": "r41dWnbLhOh9"
   },
   "source": [
    "#### Histograms for numeric variables"
   ]
  },
  {
   "cell_type": "code",
   "execution_count": 201,
   "metadata": {
    "id": "rKHkNcQxhOh9",
    "scrolled": false
   },
   "outputs": [
    {
     "data": {
      "image/png": "[encoded data removed]",
      "text/plain": [
       "<Figure size 864x576 with 6 Axes>"
      ]
     },
     "metadata": {
      "needs_background": "light"
     },
     "output_type": "display_data"
    }
   ],
   "source": [
    "fig = plt.figure(figsize=(12,8))\n",
    "fig.subplots_adjust(hspace=0.3, wspace=0.3)\n",
    "for i in range(1, len(num_vars)+1):\n",
    "    plt.subplot(2, 3, i)\n",
    "    var = num_vars[i-1]\n",
    "    df[var].plot.hist()\n",
    "    plt.title(var);"
   ]
  },
  {
   "cell_type": "markdown",
   "metadata": {
    "id": "t7vA76VahOh-"
   },
   "source": [
    "From the histograms we can see that variables Survived and Pclass are categorical.  There are only three truly numeric variables in the data set: Age, SibSp, and Parch.  Furthermore, for SibSp and Parch, only a couple of values appear frequently.  It might be useful to convert SibSp and Parch into categorical variables."
   ]
  },
  {
   "cell_type": "markdown",
   "metadata": {
    "id": "bbAybVPwhOh-"
   },
   "source": [
    "## Data exploration"
   ]
  },
  {
   "cell_type": "markdown",
   "metadata": {
    "id": "ZoaaO6t3hOh-"
   },
   "source": [
    "I first want to take a look at how Cabin affects a passenger's possibility for survival. While the description of the data does not specifiy what cabin numbers and letters refer to, I'm assuming that they might stand for the different levels in the ship. I want to see if there is any relation between possible cabin placement with survival rate."
   ]
  },
  {
   "cell_type": "code",
   "execution_count": 202,
   "metadata": {},
   "outputs": [
    {
     "data": {
      "image/png": "[encoded data removed]",
      "text/plain": [
       "<Figure size 432x288 with 1 Axes>"
      ]
     },
     "metadata": {
      "needs_background": "light"
     },
     "output_type": "display_data"
    }
   ],
   "source": [
    "one = pd.crosstab(df['Cabin'], df['Survived'])\n",
    "one = one.div(df['Cabin'].value_counts(), axis=0)\n",
    "one.plot.bar(stacked=True).tick_params(labelrotation=0)\n",
    "plt.xlabel(\"Cabin\")\n",
    "plt.ylabel(\"Percent surivved\")\n",
    "plt.title(\"Percent survived based on cabin letter assignment\");"
   ]
  },
  {
   "cell_type": "markdown",
   "metadata": {},
   "source": [
    "The above graph shows that cabins with letters B, D, and E have higher rates of survival, but that cabin T had 0% chance of survival. I want to quickly look at cabin T to see what other factors might have affected this."
   ]
  },
  {
   "cell_type": "code",
   "execution_count": 203,
   "metadata": {},
   "outputs": [
    {
     "data": {
      "text/html": [
       "<div>\n",
       "<style scoped>\n",
       "    .dataframe tbody tr th:only-of-type {\n",
       "        vertical-align: middle;\n",
       "    }\n",
       "\n",
       "    .dataframe tbody tr th {\n",
       "        vertical-align: top;\n",
       "    }\n",
       "\n",
       "    .dataframe thead th {\n",
       "        text-align: right;\n",
       "    }\n",
       "</style>\n",
       "<table border=\"1\" class=\"dataframe\">\n",
       "  <thead>\n",
       "    <tr style=\"text-align: right;\">\n",
       "      <th></th>\n",
       "      <th>Survived</th>\n",
       "      <th>Pclass</th>\n",
       "      <th>Sex</th>\n",
       "      <th>Age</th>\n",
       "      <th>SibSp</th>\n",
       "      <th>Parch</th>\n",
       "      <th>Ticket</th>\n",
       "      <th>Fare</th>\n",
       "      <th>Cabin</th>\n",
       "      <th>Embarked</th>\n",
       "      <th>Title</th>\n",
       "    </tr>\n",
       "  </thead>\n",
       "  <tbody>\n",
       "    <tr>\n",
       "      <th>339</th>\n",
       "      <td>0</td>\n",
       "      <td>1</td>\n",
       "      <td>male</td>\n",
       "      <td>45.0</td>\n",
       "      <td>0</td>\n",
       "      <td>0</td>\n",
       "      <td>False</td>\n",
       "      <td>35.5</td>\n",
       "      <td>T</td>\n",
       "      <td>S</td>\n",
       "      <td>Mr.</td>\n",
       "    </tr>\n",
       "  </tbody>\n",
       "</table>\n",
       "</div>"
      ],
      "text/plain": [
       "     Survived  Pclass   Sex   Age  SibSp  Parch Ticket  Fare Cabin Embarked  \\\n",
       "339         0       1  male  45.0      0      0  False  35.5     T        S   \n",
       "\n",
       "    Title  \n",
       "339   Mr.  "
      ]
     },
     "execution_count": 203,
     "metadata": {},
     "output_type": "execute_result"
    }
   ],
   "source": [
    "df.loc[df['Cabin']=='T']"
   ]
  },
  {
   "cell_type": "markdown",
   "metadata": {},
   "source": [
    "Looking up passengers that had a cabin assignment of T showed only one result, which means I can probably disregard cabin T assignment having any significant factor in survival."
   ]
  },
  {
   "cell_type": "markdown",
   "metadata": {},
   "source": [
    "I'm not curious to see the relationship between cabin assignment and socio-economic status (Pclass). It would make sense that different classes had separate cabin areas, so I also want to see how those relate and whether or not there might be an affect on survival."
   ]
  },
  {
   "cell_type": "code",
   "execution_count": 204,
   "metadata": {},
   "outputs": [
    {
     "data": {
      "image/png": "[encoded data removed]",
      "text/plain": [
       "<Figure size 1440x432 with 6 Axes>"
      ]
     },
     "metadata": {
      "needs_background": "light"
     },
     "output_type": "display_data"
    }
   ],
   "source": [
    "fig,ax = plt.subplots(2,3, figsize=(20,6))\n",
    "plt.subplots_adjust(hspace=0.5)\n",
    "a=pd.crosstab(df['Pclass'], df['Cabin'])\n",
    "\n",
    "\n",
    "b=a[:1].plot.bar(ax=ax[0,0])\n",
    "b.set_title('Cabin distribution in Pclass 1')\n",
    "b.set_ylabel('Count')\n",
    "b.tick_params(labelrotation=0)\n",
    "c=a[1:2].plot.bar(ax=ax[0,1])\n",
    "c.set_ylabel('Count')\n",
    "c.tick_params(labelrotation=0)\n",
    "c.set_title('Cabin distribution in Pclass 2')\n",
    "d=a[2:3].plot.bar(ax=ax[0,2])\n",
    "d.set_ylabel('Count')\n",
    "d.tick_params(labelrotation=0)\n",
    "d.set_title('Cabin distribution in Pclass 3')\n",
    "e=(a[['F','G','T']])[0:1].plot.bar(ax=ax[1,0])\n",
    "e.tick_params(labelrotation=0)\n",
    "e.set_ylabel('Count')\n",
    "e.set_title('Cabins F G and T in Pclass 1')\n",
    "f=(a.loc[:,a.columns != 'U'])[1:2].plot.bar(ax=ax[1,1])\n",
    "f.tick_params(labelrotation=0)\n",
    "f.set_ylabel('Count')\n",
    "f.set_title('Cabin distribution without U in Pclass 2')\n",
    "g=(a.loc[:,a.columns != 'U'])[2:3].plot.bar(ax=ax[1,2])\n",
    "g.tick_params(labelrotation=0)\n",
    "g.set_ylabel('Count')\n",
    "g.set_title('Cabin distribution without U in Pclass 3');"
   ]
  },
  {
   "cell_type": "markdown",
   "metadata": {},
   "source": [
    "The first row shows the different cabin distribution based on class. It looks like classes 2 and 3 both have a majority of passengers in the \"U\" cabin area, whereas class 1 has a more even distribution. Considering that Pclass 1 passengers are those from high socio-economic background, it makes sense that their cabin area would be different from the majority of the middle and lower class passengers. The second row is just picking out specific cabins to see the count a little more clearly. You can see that the one T cabin is from Pclass 1, and that Pclass 2 and 3 have much less passengers in cabin areas that are not U."
   ]
  },
  {
   "cell_type": "markdown",
   "metadata": {},
   "source": [
    "Now I want to take a look at how a passenger's socio-economic status changes their probability of having survived the Titanic, with Pclass of 1=Upper, 2=Middle, and 3=Lower classes."
   ]
  },
  {
   "cell_type": "code",
   "execution_count": 179,
   "metadata": {},
   "outputs": [
    {
     "data": {
      "image/png": "[encoded data removed]",
      "text/plain": [
       "<Figure size 864x432 with 2 Axes>"
      ]
     },
     "metadata": {
      "needs_background": "light"
     },
     "output_type": "display_data"
    }
   ],
   "source": [
    "fig,ax = plt.subplots(1,2, figsize=(12,6))\n",
    "plt.subplots_adjust(wspace=0.5)\n",
    "a = sns.countplot(x='Pclass', hue='Survived', data=df, ax=ax[0])\n",
    "a.set_xlabel('Pclass (Socio-Economic Status)')\n",
    "a.set_ylabel('Count')\n",
    "a.set_title('Number of passenger survival based on Socio-Economic Status')\n",
    "b = pd.crosstab(df['Pclass'], df['Survived']).div(df['Pclass'].value_counts(), axis=0).plot.bar(stacked=True,ax=ax[1])\n",
    "b.set_xlabel('Pclass (Socio-Economic Status)')\n",
    "b.set_ylabel('Percent survived')\n",
    "b.tick_params(labelrotation=0)\n",
    "b.set_title('Percent survived based on Socio-Economic Status');"
   ]
  },
  {
   "cell_type": "markdown",
   "metadata": {},
   "source": [
    "These graphs show that those who were in a higher socio-economic class had a higher chance of surviving the crash than those in lower socio-economic classes. You can see in the left plot that the number of passengers that survived from a high socio-economic class is higher than the number in either middle or low, and you can see how the lowest class. From the three different visualizations I did with Pclass and Cabin, I beleive that they can both indicate chances of survival well."
   ]
  },
  {
   "cell_type": "markdown",
   "metadata": {},
   "source": [
    "I also wanted to take a look at the overall age distribution for those who did and did not survive."
   ]
  },
  {
   "cell_type": "code",
   "execution_count": 222,
   "metadata": {},
   "outputs": [
    {
     "data": {
      "image/png": "[encoded data removed]",
      "text/plain": [
       "<Figure size 432x288 with 1 Axes>"
      ]
     },
     "metadata": {
      "needs_background": "light"
     },
     "output_type": "display_data"
    }
   ],
   "source": [
    "sns.kdeplot(x='Age', hue='Survived', data=df)\n",
    "plt.title('Percent survived and not surived at each age');"
   ]
  },
  {
   "cell_type": "markdown",
   "metadata": {},
   "source": [
    "Looking back and comparing this graph with the age histogram, I can see that the huge bump for both survived and not survived passengers at around ages 30-40 is due to a higher number of passengers in that age group. One thing I did notice is that there is a small increase around the 0-10 of higher surviving passengers. From this graph, I can assume that they prioritized getting children off of the sinking Titanic."
   ]
  },
  {
   "cell_type": "code",
   "execution_count": 223,
   "metadata": {},
   "outputs": [
    {
     "data": {
      "image/png": "[encoded data removed]",
      "text/plain": [
       "<Figure size 432x288 with 1 Axes>"
      ]
     },
     "metadata": {
      "needs_background": "light"
     },
     "output_type": "display_data"
    }
   ],
   "source": [
    "a = pd.crosstab(df['Sex'], df['Survived'])\n",
    "a = a.div(df['Sex'].value_counts(), axis=0)\n",
    "a.plot.bar(stacked=True).tick_params(labelrotation=0)\n",
    "plt.title('Survival based on sex');"
   ]
  },
  {
   "cell_type": "markdown",
   "metadata": {},
   "source": [
    "Here you can also see that there is a much higher chance of survival for females, at ~72%, whereas it was only ~20% for males. Based on the age and sex, I believe they evacuated the ship with children and women as priority. I believe that sex and age will also be very good predictors of survival."
   ]
  },
  {
   "cell_type": "markdown",
   "metadata": {
    "id": "FcECtAYThOh-"
   },
   "source": [
    "## Building a classification tree"
   ]
  },
  {
   "cell_type": "code",
   "execution_count": 317,
   "metadata": {
    "id": "duXvj73rhOh_"
   },
   "outputs": [],
   "source": [
    "np.random.seed(123)"
   ]
  },
  {
   "cell_type": "markdown",
   "metadata": {},
   "source": [
    "I'm going to convert categorical variables to numeric variables using ordinal encoding"
   ]
  },
  {
   "cell_type": "code",
   "execution_count": 374,
   "metadata": {},
   "outputs": [],
   "source": [
    "from sklearn.preprocessing import LabelEncoder\n",
    "df['Sex'] = LabelEncoder().fit_transform(df['Sex'])\n",
    "df['Ticket'] = LabelEncoder().fit_transform(df['Ticket'])\n",
    "df['Cabin'] = LabelEncoder().fit_transform(df['Cabin'])\n",
    "df['Embarked'] = LabelEncoder().fit_transform(df['Embarked'])\n",
    "df['Title'] = LabelEncoder().fit_transform(df['Title'])"
   ]
  },
  {
   "cell_type": "markdown",
   "metadata": {},
   "source": [
    "Now I will pick my predictors, create the test train split, train the model, and visualizing the tree."
   ]
  },
  {
   "cell_type": "code",
   "execution_count": 375,
   "metadata": {
    "scrolled": true
   },
   "outputs": [
    {
     "data": {
      "image/svg+xml": [
       "<?xml version=\"1.0\" encoding=\"UTF-8\" standalone=\"no\"?>\n",
       "<!DOCTYPE svg PUBLIC \"-//W3C//DTD SVG 1.1//EN\"\n",
       " \"http://www.w3.org/Graphics/SVG/1.1/DTD/svg11.dtd\">\n",
       "<!-- Generated by graphviz version 2.40.1 (20161225.0304)\n",
       " -->\n",
       "<!-- Title: Tree Pages: 1 -->\n",
       "<svg width=\"2746pt\" height=\"581pt\"\n",
       " viewBox=\"0.00 0.00 2746.00 581.00\" xmlns=\"http://www.w3.org/2000/svg\" xmlns:xlink=\"http://www.w3.org/1999/xlink\">\n",
       "<g id=\"graph0\" class=\"graph\" transform=\"scale(1 1) rotate(0) translate(4 577)\">\n",
       "<title>Tree</title>\n",
       "<polygon fill=\"#ffffff\" stroke=\"transparent\" points=\"-4,4 -4,-577 2742,-577 2742,4 -4,4\"/>\n",
       "<!-- 0 -->\n",
       "<g id=\"node1\" class=\"node\">\n",
       "<title>0</title>\n",
       "<path fill=\"#f4cbad\" stroke=\"#000000\" d=\"M1297,-573C1297,-573 1185,-573 1185,-573 1179,-573 1173,-567 1173,-561 1173,-561 1173,-517 1173,-517 1173,-511 1179,-505 1185,-505 1185,-505 1297,-505 1297,-505 1303,-505 1309,-511 1309,-517 1309,-517 1309,-561 1309,-561 1309,-567 1303,-573 1297,-573\"/>\n",
       "<text text-anchor=\"middle\" x=\"1241\" y=\"-557.8\" font-family=\"Helvetica,sans-Serif\" font-size=\"14.00\" fill=\"#000000\">Sex &lt;= 0.5</text>\n",
       "<text text-anchor=\"middle\" x=\"1241\" y=\"-542.8\" font-family=\"Helvetica,sans-Serif\" font-size=\"14.00\" fill=\"#000000\">gini = 0.466</text>\n",
       "<text text-anchor=\"middle\" x=\"1241\" y=\"-527.8\" font-family=\"Helvetica,sans-Serif\" font-size=\"14.00\" fill=\"#000000\">samples = 100.0%</text>\n",
       "<text text-anchor=\"middle\" x=\"1241\" y=\"-512.8\" font-family=\"Helvetica,sans-Serif\" font-size=\"14.00\" fill=\"#000000\">value = [0.63, 0.37]</text>\n",
       "</g>\n",
       "<!-- 1 -->\n",
       "<g id=\"node2\" class=\"node\">\n",
       "<title>1</title>\n",
       "<path fill=\"#7fc0ee\" stroke=\"#000000\" d=\"M1036,-469C1036,-469 908,-469 908,-469 902,-469 896,-463 896,-457 896,-457 896,-413 896,-413 896,-407 902,-401 908,-401 908,-401 1036,-401 1036,-401 1042,-401 1048,-407 1048,-413 1048,-413 1048,-457 1048,-457 1048,-463 1042,-469 1036,-469\"/>\n",
       "<text text-anchor=\"middle\" x=\"972\" y=\"-453.8\" font-family=\"Helvetica,sans-Serif\" font-size=\"14.00\" fill=\"#000000\">Pclass &lt;= 2.5</text>\n",
       "<text text-anchor=\"middle\" x=\"972\" y=\"-438.8\" font-family=\"Helvetica,sans-Serif\" font-size=\"14.00\" fill=\"#000000\">gini = 0.386</text>\n",
       "<text text-anchor=\"middle\" x=\"972\" y=\"-423.8\" font-family=\"Helvetica,sans-Serif\" font-size=\"14.00\" fill=\"#000000\">samples = 34.4%</text>\n",
       "<text text-anchor=\"middle\" x=\"972\" y=\"-408.8\" font-family=\"Helvetica,sans-Serif\" font-size=\"14.00\" fill=\"#000000\">value = [0.262, 0.738]</text>\n",
       "</g>\n",
       "<!-- 0&#45;&gt;1 -->\n",
       "<g id=\"edge1\" class=\"edge\">\n",
       "<title>0&#45;&gt;1</title>\n",
       "<path fill=\"none\" stroke=\"#000000\" d=\"M1172.7722,-512.622C1137.7601,-499.0857 1094.7604,-482.4613 1057.5493,-468.0748\"/>\n",
       "<polygon fill=\"#000000\" stroke=\"#000000\" points=\"1058.8113,-464.8103 1048.2219,-464.4687 1056.287,-471.3393 1058.8113,-464.8103\"/>\n",
       "<text text-anchor=\"middle\" x=\"1058.3356\" y=\"-483.6317\" font-family=\"Helvetica,sans-Serif\" font-size=\"14.00\" fill=\"#000000\">True</text>\n",
       "</g>\n",
       "<!-- 20 -->\n",
       "<g id=\"node21\" class=\"node\">\n",
       "<title>20</title>\n",
       "<path fill=\"#eb9c63\" stroke=\"#000000\" d=\"M1542,-469C1542,-469 1414,-469 1414,-469 1408,-469 1402,-463 1402,-457 1402,-457 1402,-413 1402,-413 1402,-407 1408,-401 1414,-401 1414,-401 1542,-401 1542,-401 1548,-401 1554,-407 1554,-413 1554,-413 1554,-457 1554,-457 1554,-463 1548,-469 1542,-469\"/>\n",
       "<text text-anchor=\"middle\" x=\"1478\" y=\"-453.8\" font-family=\"Helvetica,sans-Serif\" font-size=\"14.00\" fill=\"#000000\">Cabin &lt;= 6.5</text>\n",
       "<text text-anchor=\"middle\" x=\"1478\" y=\"-438.8\" font-family=\"Helvetica,sans-Serif\" font-size=\"14.00\" fill=\"#000000\">gini = 0.291</text>\n",
       "<text text-anchor=\"middle\" x=\"1478\" y=\"-423.8\" font-family=\"Helvetica,sans-Serif\" font-size=\"14.00\" fill=\"#000000\">samples = 65.6%</text>\n",
       "<text text-anchor=\"middle\" x=\"1478\" y=\"-408.8\" font-family=\"Helvetica,sans-Serif\" font-size=\"14.00\" fill=\"#000000\">value = [0.824, 0.176]</text>\n",
       "</g>\n",
       "<!-- 0&#45;&gt;20 -->\n",
       "<g id=\"edge20\" class=\"edge\">\n",
       "<title>0&#45;&gt;20</title>\n",
       "<path fill=\"none\" stroke=\"#000000\" d=\"M1309.2323,-509.0584C1335.2783,-497.6289 1365.3015,-484.4542 1392.7383,-472.4144\"/>\n",
       "<polygon fill=\"#000000\" stroke=\"#000000\" points=\"1394.1836,-475.6024 1401.9343,-468.379 1391.3707,-469.1924 1394.1836,-475.6024\"/>\n",
       "<text text-anchor=\"middle\" x=\"1392.8501\" y=\"-487.9702\" font-family=\"Helvetica,sans-Serif\" font-size=\"14.00\" fill=\"#000000\">False</text>\n",
       "</g>\n",
       "<!-- 2 -->\n",
       "<g id=\"node3\" class=\"node\">\n",
       "<title>2</title>\n",
       "<path fill=\"#45a3e7\" stroke=\"#000000\" d=\"M537,-365C537,-365 409,-365 409,-365 403,-365 397,-359 397,-353 397,-353 397,-309 397,-309 397,-303 403,-297 409,-297 409,-297 537,-297 537,-297 543,-297 549,-303 549,-309 549,-309 549,-353 549,-353 549,-359 543,-365 537,-365\"/>\n",
       "<text text-anchor=\"middle\" x=\"473\" y=\"-349.8\" font-family=\"Helvetica,sans-Serif\" font-size=\"14.00\" fill=\"#000000\">Age &lt;= 2.5</text>\n",
       "<text text-anchor=\"middle\" x=\"473\" y=\"-334.8\" font-family=\"Helvetica,sans-Serif\" font-size=\"14.00\" fill=\"#000000\">gini = 0.112</text>\n",
       "<text text-anchor=\"middle\" x=\"473\" y=\"-319.8\" font-family=\"Helvetica,sans-Serif\" font-size=\"14.00\" fill=\"#000000\">samples = 19.0%</text>\n",
       "<text text-anchor=\"middle\" x=\"473\" y=\"-304.8\" font-family=\"Helvetica,sans-Serif\" font-size=\"14.00\" fill=\"#000000\">value = [0.059, 0.941]</text>\n",
       "</g>\n",
       "<!-- 1&#45;&gt;2 -->\n",
       "<g id=\"edge2\" class=\"edge\">\n",
       "<title>1&#45;&gt;2</title>\n",
       "<path fill=\"none\" stroke=\"#000000\" d=\"M895.9412,-419.1481C805.1635,-400.2285 653.758,-368.673 558.8594,-348.8946\"/>\n",
       "<polygon fill=\"#000000\" stroke=\"#000000\" points=\"559.5055,-345.4541 549.0018,-346.84 558.0773,-352.3068 559.5055,-345.4541\"/>\n",
       "</g>\n",
       "<!-- 11 -->\n",
       "<g id=\"node12\" class=\"node\">\n",
       "<title>11</title>\n",
       "<path fill=\"#fefaf7\" stroke=\"#000000\" d=\"M1028,-365C1028,-365 916,-365 916,-365 910,-365 904,-359 904,-353 904,-353 904,-309 904,-309 904,-303 910,-297 916,-297 916,-297 1028,-297 1028,-297 1034,-297 1040,-303 1040,-309 1040,-309 1040,-353 1040,-353 1040,-359 1034,-365 1028,-365\"/>\n",
       "<text text-anchor=\"middle\" x=\"972\" y=\"-349.8\" font-family=\"Helvetica,sans-Serif\" font-size=\"14.00\" fill=\"#000000\">Age &lt;= 38.5</text>\n",
       "<text text-anchor=\"middle\" x=\"972\" y=\"-334.8\" font-family=\"Helvetica,sans-Serif\" font-size=\"14.00\" fill=\"#000000\">gini = 0.5</text>\n",
       "<text text-anchor=\"middle\" x=\"972\" y=\"-319.8\" font-family=\"Helvetica,sans-Serif\" font-size=\"14.00\" fill=\"#000000\">samples = 15.4%</text>\n",
       "<text text-anchor=\"middle\" x=\"972\" y=\"-304.8\" font-family=\"Helvetica,sans-Serif\" font-size=\"14.00\" fill=\"#000000\">value = [0.51, 0.49]</text>\n",
       "</g>\n",
       "<!-- 1&#45;&gt;11 -->\n",
       "<g id=\"edge11\" class=\"edge\">\n",
       "<title>1&#45;&gt;11</title>\n",
       "<path fill=\"none\" stroke=\"#000000\" d=\"M972,-400.9465C972,-392.776 972,-383.9318 972,-375.3697\"/>\n",
       "<polygon fill=\"#000000\" stroke=\"#000000\" points=\"975.5001,-375.13 972,-365.13 968.5001,-375.13 975.5001,-375.13\"/>\n",
       "</g>\n",
       "<!-- 3 -->\n",
       "<g id=\"node4\" class=\"node\">\n",
       "<title>3</title>\n",
       "<path fill=\"#e58139\" stroke=\"#000000\" d=\"M367,-253.5C367,-253.5 271,-253.5 271,-253.5 265,-253.5 259,-247.5 259,-241.5 259,-241.5 259,-212.5 259,-212.5 259,-206.5 265,-200.5 271,-200.5 271,-200.5 367,-200.5 367,-200.5 373,-200.5 379,-206.5 379,-212.5 379,-212.5 379,-241.5 379,-241.5 379,-247.5 373,-253.5 367,-253.5\"/>\n",
       "<text text-anchor=\"middle\" x=\"319\" y=\"-238.3\" font-family=\"Helvetica,sans-Serif\" font-size=\"14.00\" fill=\"#000000\">gini = 0.0</text>\n",
       "<text text-anchor=\"middle\" x=\"319\" y=\"-223.3\" font-family=\"Helvetica,sans-Serif\" font-size=\"14.00\" fill=\"#000000\">samples = 0.2%</text>\n",
       "<text text-anchor=\"middle\" x=\"319\" y=\"-208.3\" font-family=\"Helvetica,sans-Serif\" font-size=\"14.00\" fill=\"#000000\">value = [1.0, 0.0]</text>\n",
       "</g>\n",
       "<!-- 2&#45;&gt;3 -->\n",
       "<g id=\"edge3\" class=\"edge\">\n",
       "<title>2&#45;&gt;3</title>\n",
       "<path fill=\"none\" stroke=\"#000000\" d=\"M422.5746,-296.9465C404.6331,-284.8301 384.4974,-271.232 366.7838,-259.2696\"/>\n",
       "<polygon fill=\"#000000\" stroke=\"#000000\" points=\"368.5489,-256.2382 358.3028,-253.5422 364.6313,-262.0393 368.5489,-256.2382\"/>\n",
       "</g>\n",
       "<!-- 4 -->\n",
       "<g id=\"node5\" class=\"node\">\n",
       "<title>4</title>\n",
       "<path fill=\"#44a2e6\" stroke=\"#000000\" d=\"M537,-261C537,-261 409,-261 409,-261 403,-261 397,-255 397,-249 397,-249 397,-205 397,-205 397,-199 403,-193 409,-193 409,-193 537,-193 537,-193 543,-193 549,-199 549,-205 549,-205 549,-249 549,-249 549,-255 543,-261 537,-261\"/>\n",
       "<text text-anchor=\"middle\" x=\"473\" y=\"-245.8\" font-family=\"Helvetica,sans-Serif\" font-size=\"14.00\" fill=\"#000000\">Age &lt;= 37.0</text>\n",
       "<text text-anchor=\"middle\" x=\"473\" y=\"-230.8\" font-family=\"Helvetica,sans-Serif\" font-size=\"14.00\" fill=\"#000000\">gini = 0.097</text>\n",
       "<text text-anchor=\"middle\" x=\"473\" y=\"-215.8\" font-family=\"Helvetica,sans-Serif\" font-size=\"14.00\" fill=\"#000000\">samples = 18.8%</text>\n",
       "<text text-anchor=\"middle\" x=\"473\" y=\"-200.8\" font-family=\"Helvetica,sans-Serif\" font-size=\"14.00\" fill=\"#000000\">value = [0.051, 0.949]</text>\n",
       "</g>\n",
       "<!-- 2&#45;&gt;4 -->\n",
       "<g id=\"edge4\" class=\"edge\">\n",
       "<title>2&#45;&gt;4</title>\n",
       "<path fill=\"none\" stroke=\"#000000\" d=\"M473,-296.9465C473,-288.776 473,-279.9318 473,-271.3697\"/>\n",
       "<polygon fill=\"#000000\" stroke=\"#000000\" points=\"476.5001,-271.13 473,-261.13 469.5001,-271.13 476.5001,-271.13\"/>\n",
       "</g>\n",
       "<!-- 5 -->\n",
       "<g id=\"node6\" class=\"node\">\n",
       "<title>5</title>\n",
       "<path fill=\"#3e9fe6\" stroke=\"#000000\" d=\"M294,-157C294,-157 166,-157 166,-157 160,-157 154,-151 154,-145 154,-145 154,-101 154,-101 154,-95 160,-89 166,-89 166,-89 294,-89 294,-89 300,-89 306,-95 306,-101 306,-101 306,-145 306,-145 306,-151 300,-157 294,-157\"/>\n",
       "<text text-anchor=\"middle\" x=\"230\" y=\"-141.8\" font-family=\"Helvetica,sans-Serif\" font-size=\"14.00\" fill=\"#000000\">Age &lt;= 27.5</text>\n",
       "<text text-anchor=\"middle\" x=\"230\" y=\"-126.8\" font-family=\"Helvetica,sans-Serif\" font-size=\"14.00\" fill=\"#000000\">gini = 0.047</text>\n",
       "<text text-anchor=\"middle\" x=\"230\" y=\"-111.8\" font-family=\"Helvetica,sans-Serif\" font-size=\"14.00\" fill=\"#000000\">samples = 13.3%</text>\n",
       "<text text-anchor=\"middle\" x=\"230\" y=\"-96.8\" font-family=\"Helvetica,sans-Serif\" font-size=\"14.00\" fill=\"#000000\">value = [0.024, 0.976]</text>\n",
       "</g>\n",
       "<!-- 4&#45;&gt;5 -->\n",
       "<g id=\"edge5\" class=\"edge\">\n",
       "<title>4&#45;&gt;5</title>\n",
       "<path fill=\"none\" stroke=\"#000000\" d=\"M396.78,-194.3791C371.007,-183.3487 342.0619,-170.9606 315.6101,-159.6397\"/>\n",
       "<polygon fill=\"#000000\" stroke=\"#000000\" points=\"316.9376,-156.4008 306.367,-155.6838 314.1833,-162.8362 316.9376,-156.4008\"/>\n",
       "</g>\n",
       "<!-- 8 -->\n",
       "<g id=\"node9\" class=\"node\">\n",
       "<title>8</title>\n",
       "<path fill=\"#53aae8\" stroke=\"#000000\" d=\"M537,-157C537,-157 409,-157 409,-157 403,-157 397,-151 397,-145 397,-145 397,-101 397,-101 397,-95 403,-89 409,-89 409,-89 537,-89 537,-89 543,-89 549,-95 549,-101 549,-101 549,-145 549,-145 549,-151 543,-157 537,-157\"/>\n",
       "<text text-anchor=\"middle\" x=\"473\" y=\"-141.8\" font-family=\"Helvetica,sans-Serif\" font-size=\"14.00\" fill=\"#000000\">Pclass &lt;= 1.5</text>\n",
       "<text text-anchor=\"middle\" x=\"473\" y=\"-126.8\" font-family=\"Helvetica,sans-Serif\" font-size=\"14.00\" fill=\"#000000\">gini = 0.208</text>\n",
       "<text text-anchor=\"middle\" x=\"473\" y=\"-111.8\" font-family=\"Helvetica,sans-Serif\" font-size=\"14.00\" fill=\"#000000\">samples = 5.5%</text>\n",
       "<text text-anchor=\"middle\" x=\"473\" y=\"-96.8\" font-family=\"Helvetica,sans-Serif\" font-size=\"14.00\" fill=\"#000000\">value = [0.118, 0.882]</text>\n",
       "</g>\n",
       "<!-- 4&#45;&gt;8 -->\n",
       "<g id=\"edge8\" class=\"edge\">\n",
       "<title>4&#45;&gt;8</title>\n",
       "<path fill=\"none\" stroke=\"#000000\" d=\"M473,-192.9465C473,-184.776 473,-175.9318 473,-167.3697\"/>\n",
       "<polygon fill=\"#000000\" stroke=\"#000000\" points=\"476.5001,-167.13 473,-157.13 469.5001,-167.13 476.5001,-167.13\"/>\n",
       "</g>\n",
       "<!-- 6 -->\n",
       "<g id=\"node7\" class=\"node\">\n",
       "<title>6</title>\n",
       "<path fill=\"#42a2e6\" stroke=\"#000000\" d=\"M140,-53C140,-53 12,-53 12,-53 6,-53 0,-47 0,-41 0,-41 0,-12 0,-12 0,-6 6,0 12,0 12,0 140,0 140,0 146,0 152,-6 152,-12 152,-12 152,-41 152,-41 152,-47 146,-53 140,-53\"/>\n",
       "<text text-anchor=\"middle\" x=\"76\" y=\"-37.8\" font-family=\"Helvetica,sans-Serif\" font-size=\"14.00\" fill=\"#000000\">gini = 0.087</text>\n",
       "<text text-anchor=\"middle\" x=\"76\" y=\"-22.8\" font-family=\"Helvetica,sans-Serif\" font-size=\"14.00\" fill=\"#000000\">samples = 7.1%</text>\n",
       "<text text-anchor=\"middle\" x=\"76\" y=\"-7.8\" font-family=\"Helvetica,sans-Serif\" font-size=\"14.00\" fill=\"#000000\">value = [0.045, 0.955]</text>\n",
       "</g>\n",
       "<!-- 5&#45;&gt;6 -->\n",
       "<g id=\"edge6\" class=\"edge\">\n",
       "<title>5&#45;&gt;6</title>\n",
       "<path fill=\"none\" stroke=\"#000000\" d=\"M175.7054,-88.9777C160.0692,-79.1798 143.0613,-68.5222 127.5937,-58.8298\"/>\n",
       "<polygon fill=\"#000000\" stroke=\"#000000\" points=\"129.019,-55.5926 118.6867,-53.2485 125.302,-61.5242 129.019,-55.5926\"/>\n",
       "</g>\n",
       "<!-- 7 -->\n",
       "<g id=\"node8\" class=\"node\">\n",
       "<title>7</title>\n",
       "<path fill=\"#399de5\" stroke=\"#000000\" d=\"M278,-53C278,-53 182,-53 182,-53 176,-53 170,-47 170,-41 170,-41 170,-12 170,-12 170,-6 176,0 182,0 182,0 278,0 278,0 284,0 290,-6 290,-12 290,-12 290,-41 290,-41 290,-47 284,-53 278,-53\"/>\n",
       "<text text-anchor=\"middle\" x=\"230\" y=\"-37.8\" font-family=\"Helvetica,sans-Serif\" font-size=\"14.00\" fill=\"#000000\">gini = 0.0</text>\n",
       "<text text-anchor=\"middle\" x=\"230\" y=\"-22.8\" font-family=\"Helvetica,sans-Serif\" font-size=\"14.00\" fill=\"#000000\">samples = 6.3%</text>\n",
       "<text text-anchor=\"middle\" x=\"230\" y=\"-7.8\" font-family=\"Helvetica,sans-Serif\" font-size=\"14.00\" fill=\"#000000\">value = [0.0, 1.0]</text>\n",
       "</g>\n",
       "<!-- 5&#45;&gt;7 -->\n",
       "<g id=\"edge7\" class=\"edge\">\n",
       "<title>5&#45;&gt;7</title>\n",
       "<path fill=\"none\" stroke=\"#000000\" d=\"M230,-88.9777C230,-80.7364 230,-71.887 230,-63.5153\"/>\n",
       "<polygon fill=\"#000000\" stroke=\"#000000\" points=\"233.5001,-63.2484 230,-53.2485 226.5001,-63.2485 233.5001,-63.2484\"/>\n",
       "</g>\n",
       "<!-- 9 -->\n",
       "<g id=\"node10\" class=\"node\">\n",
       "<title>9</title>\n",
       "<path fill=\"#42a2e6\" stroke=\"#000000\" d=\"M448,-53C448,-53 320,-53 320,-53 314,-53 308,-47 308,-41 308,-41 308,-12 308,-12 308,-6 314,0 320,0 320,0 448,0 448,0 454,0 460,-6 460,-12 460,-12 460,-41 460,-41 460,-47 454,-53 448,-53\"/>\n",
       "<text text-anchor=\"middle\" x=\"384\" y=\"-37.8\" font-family=\"Helvetica,sans-Serif\" font-size=\"14.00\" fill=\"#000000\">gini = 0.087</text>\n",
       "<text text-anchor=\"middle\" x=\"384\" y=\"-22.8\" font-family=\"Helvetica,sans-Serif\" font-size=\"14.00\" fill=\"#000000\">samples = 3.5%</text>\n",
       "<text text-anchor=\"middle\" x=\"384\" y=\"-7.8\" font-family=\"Helvetica,sans-Serif\" font-size=\"14.00\" fill=\"#000000\">value = [0.045, 0.955]</text>\n",
       "</g>\n",
       "<!-- 8&#45;&gt;9 -->\n",
       "<g id=\"edge9\" class=\"edge\">\n",
       "<title>8&#45;&gt;9</title>\n",
       "<path fill=\"none\" stroke=\"#000000\" d=\"M441.6219,-88.9777C433.1766,-79.8207 424.0389,-69.9129 415.5825,-60.744\"/>\n",
       "<polygon fill=\"#000000\" stroke=\"#000000\" points=\"418.0221,-58.2266 408.6696,-53.2485 412.8764,-62.9723 418.0221,-58.2266\"/>\n",
       "</g>\n",
       "<!-- 10 -->\n",
       "<g id=\"node11\" class=\"node\">\n",
       "<title>10</title>\n",
       "<path fill=\"#7bbeee\" stroke=\"#000000\" d=\"M602,-53C602,-53 490,-53 490,-53 484,-53 478,-47 478,-41 478,-41 478,-12 478,-12 478,-6 484,0 490,0 490,0 602,0 602,0 608,0 614,-6 614,-12 614,-12 614,-41 614,-41 614,-47 608,-53 602,-53\"/>\n",
       "<text text-anchor=\"middle\" x=\"546\" y=\"-37.8\" font-family=\"Helvetica,sans-Serif\" font-size=\"14.00\" fill=\"#000000\">gini = 0.375</text>\n",
       "<text text-anchor=\"middle\" x=\"546\" y=\"-22.8\" font-family=\"Helvetica,sans-Serif\" font-size=\"14.00\" fill=\"#000000\">samples = 1.9%</text>\n",
       "<text text-anchor=\"middle\" x=\"546\" y=\"-7.8\" font-family=\"Helvetica,sans-Serif\" font-size=\"14.00\" fill=\"#000000\">value = [0.25, 0.75]</text>\n",
       "</g>\n",
       "<!-- 8&#45;&gt;10 -->\n",
       "<g id=\"edge10\" class=\"edge\">\n",
       "<title>8&#45;&gt;10</title>\n",
       "<path fill=\"none\" stroke=\"#000000\" d=\"M498.7371,-88.9777C505.5256,-80.0039 512.8596,-70.3089 519.6784,-61.295\"/>\n",
       "<polygon fill=\"#000000\" stroke=\"#000000\" points=\"522.5237,-63.3352 525.7654,-53.2485 516.941,-59.1121 522.5237,-63.3352\"/>\n",
       "</g>\n",
       "<!-- 12 -->\n",
       "<g id=\"node13\" class=\"node\">\n",
       "<title>12</title>\n",
       "<path fill=\"#e2f0fb\" stroke=\"#000000\" d=\"M955,-261C955,-261 843,-261 843,-261 837,-261 831,-255 831,-249 831,-249 831,-205 831,-205 831,-199 837,-193 843,-193 843,-193 955,-193 955,-193 961,-193 967,-199 967,-205 967,-205 967,-249 967,-249 967,-255 961,-261 955,-261\"/>\n",
       "<text text-anchor=\"middle\" x=\"899\" y=\"-245.8\" font-family=\"Helvetica,sans-Serif\" font-size=\"14.00\" fill=\"#000000\">Age &lt;= 5.5</text>\n",
       "<text text-anchor=\"middle\" x=\"899\" y=\"-230.8\" font-family=\"Helvetica,sans-Serif\" font-size=\"14.00\" fill=\"#000000\">gini = 0.497</text>\n",
       "<text text-anchor=\"middle\" x=\"899\" y=\"-215.8\" font-family=\"Helvetica,sans-Serif\" font-size=\"14.00\" fill=\"#000000\">samples = 14.0%</text>\n",
       "<text text-anchor=\"middle\" x=\"899\" y=\"-200.8\" font-family=\"Helvetica,sans-Serif\" font-size=\"14.00\" fill=\"#000000\">value = [0.46, 0.54]</text>\n",
       "</g>\n",
       "<!-- 11&#45;&gt;12 -->\n",
       "<g id=\"edge12\" class=\"edge\">\n",
       "<title>11&#45;&gt;12</title>\n",
       "<path fill=\"none\" stroke=\"#000000\" d=\"M948.0971,-296.9465C941.9209,-288.1475 935.1962,-278.5672 928.761,-269.3993\"/>\n",
       "<polygon fill=\"#000000\" stroke=\"#000000\" points=\"931.5666,-267.3041 922.9566,-261.13 925.8371,-271.3258 931.5666,-267.3041\"/>\n",
       "</g>\n",
       "<!-- 19 -->\n",
       "<g id=\"node20\" class=\"node\">\n",
       "<title>19</title>\n",
       "<path fill=\"#e58139\" stroke=\"#000000\" d=\"M1093,-253.5C1093,-253.5 997,-253.5 997,-253.5 991,-253.5 985,-247.5 985,-241.5 985,-241.5 985,-212.5 985,-212.5 985,-206.5 991,-200.5 997,-200.5 997,-200.5 1093,-200.5 1093,-200.5 1099,-200.5 1105,-206.5 1105,-212.5 1105,-212.5 1105,-241.5 1105,-241.5 1105,-247.5 1099,-253.5 1093,-253.5\"/>\n",
       "<text text-anchor=\"middle\" x=\"1045\" y=\"-238.3\" font-family=\"Helvetica,sans-Serif\" font-size=\"14.00\" fill=\"#000000\">gini = 0.0</text>\n",
       "<text text-anchor=\"middle\" x=\"1045\" y=\"-223.3\" font-family=\"Helvetica,sans-Serif\" font-size=\"14.00\" fill=\"#000000\">samples = 1.4%</text>\n",
       "<text text-anchor=\"middle\" x=\"1045\" y=\"-208.3\" font-family=\"Helvetica,sans-Serif\" font-size=\"14.00\" fill=\"#000000\">value = [1.0, 0.0]</text>\n",
       "</g>\n",
       "<!-- 11&#45;&gt;19 -->\n",
       "<g id=\"edge19\" class=\"edge\">\n",
       "<title>11&#45;&gt;19</title>\n",
       "<path fill=\"none\" stroke=\"#000000\" d=\"M995.9029,-296.9465C1003.7892,-285.7113 1012.5697,-273.2021 1020.4998,-261.9043\"/>\n",
       "<polygon fill=\"#000000\" stroke=\"#000000\" points=\"1023.4889,-263.7379 1026.3694,-253.5422 1017.7595,-259.7163 1023.4889,-263.7379\"/>\n",
       "</g>\n",
       "<!-- 13 -->\n",
       "<g id=\"node14\" class=\"node\">\n",
       "<title>13</title>\n",
       "<path fill=\"#6ab6ec\" stroke=\"#000000\" d=\"M870,-157C870,-157 774,-157 774,-157 768,-157 762,-151 762,-145 762,-145 762,-101 762,-101 762,-95 768,-89 774,-89 774,-89 870,-89 870,-89 876,-89 882,-95 882,-101 882,-101 882,-145 882,-145 882,-151 876,-157 870,-157\"/>\n",
       "<text text-anchor=\"middle\" x=\"822\" y=\"-141.8\" font-family=\"Helvetica,sans-Serif\" font-size=\"14.00\" fill=\"#000000\">Age &lt;= 3.5</text>\n",
       "<text text-anchor=\"middle\" x=\"822\" y=\"-126.8\" font-family=\"Helvetica,sans-Serif\" font-size=\"14.00\" fill=\"#000000\">gini = 0.32</text>\n",
       "<text text-anchor=\"middle\" x=\"822\" y=\"-111.8\" font-family=\"Helvetica,sans-Serif\" font-size=\"14.00\" fill=\"#000000\">samples = 1.6%</text>\n",
       "<text text-anchor=\"middle\" x=\"822\" y=\"-96.8\" font-family=\"Helvetica,sans-Serif\" font-size=\"14.00\" fill=\"#000000\">value = [0.2, 0.8]</text>\n",
       "</g>\n",
       "<!-- 12&#45;&gt;13 -->\n",
       "<g id=\"edge13\" class=\"edge\">\n",
       "<title>12&#45;&gt;13</title>\n",
       "<path fill=\"none\" stroke=\"#000000\" d=\"M873.7873,-192.9465C867.2727,-184.1475 860.1795,-174.5672 853.3918,-165.3993\"/>\n",
       "<polygon fill=\"#000000\" stroke=\"#000000\" points=\"856.0327,-163.0843 847.2693,-157.13 850.4069,-167.2496 856.0327,-163.0843\"/>\n",
       "</g>\n",
       "<!-- 16 -->\n",
       "<g id=\"node17\" class=\"node\">\n",
       "<title>16</title>\n",
       "<path fill=\"#fafcfe\" stroke=\"#000000\" d=\"M1040,-157C1040,-157 912,-157 912,-157 906,-157 900,-151 900,-145 900,-145 900,-101 900,-101 900,-95 906,-89 912,-89 912,-89 1040,-89 1040,-89 1046,-89 1052,-95 1052,-101 1052,-101 1052,-145 1052,-145 1052,-151 1046,-157 1040,-157\"/>\n",
       "<text text-anchor=\"middle\" x=\"976\" y=\"-141.8\" font-family=\"Helvetica,sans-Serif\" font-size=\"14.00\" fill=\"#000000\">Age &lt;= 12.0</text>\n",
       "<text text-anchor=\"middle\" x=\"976\" y=\"-126.8\" font-family=\"Helvetica,sans-Serif\" font-size=\"14.00\" fill=\"#000000\">gini = 0.5</text>\n",
       "<text text-anchor=\"middle\" x=\"976\" y=\"-111.8\" font-family=\"Helvetica,sans-Serif\" font-size=\"14.00\" fill=\"#000000\">samples = 12.4%</text>\n",
       "<text text-anchor=\"middle\" x=\"976\" y=\"-96.8\" font-family=\"Helvetica,sans-Serif\" font-size=\"14.00\" fill=\"#000000\">value = [0.494, 0.506]</text>\n",
       "</g>\n",
       "<!-- 12&#45;&gt;16 -->\n",
       "<g id=\"edge16\" class=\"edge\">\n",
       "<title>12&#45;&gt;16</title>\n",
       "<path fill=\"none\" stroke=\"#000000\" d=\"M924.2127,-192.9465C930.7273,-184.1475 937.8205,-174.5672 944.6082,-165.3993\"/>\n",
       "<polygon fill=\"#000000\" stroke=\"#000000\" points=\"947.5931,-167.2496 950.7307,-157.13 941.9673,-163.0843 947.5931,-167.2496\"/>\n",
       "</g>\n",
       "<!-- 14 -->\n",
       "<g id=\"node15\" class=\"node\">\n",
       "<title>14</title>\n",
       "<path fill=\"#bddef6\" stroke=\"#000000\" d=\"M740,-53C740,-53 644,-53 644,-53 638,-53 632,-47 632,-41 632,-41 632,-12 632,-12 632,-6 638,0 644,0 644,0 740,0 740,0 746,0 752,-6 752,-12 752,-12 752,-41 752,-41 752,-47 746,-53 740,-53\"/>\n",
       "<text text-anchor=\"middle\" x=\"692\" y=\"-37.8\" font-family=\"Helvetica,sans-Serif\" font-size=\"14.00\" fill=\"#000000\">gini = 0.48</text>\n",
       "<text text-anchor=\"middle\" x=\"692\" y=\"-22.8\" font-family=\"Helvetica,sans-Serif\" font-size=\"14.00\" fill=\"#000000\">samples = 0.8%</text>\n",
       "<text text-anchor=\"middle\" x=\"692\" y=\"-7.8\" font-family=\"Helvetica,sans-Serif\" font-size=\"14.00\" fill=\"#000000\">value = [0.4, 0.6]</text>\n",
       "</g>\n",
       "<!-- 13&#45;&gt;14 -->\n",
       "<g id=\"edge14\" class=\"edge\">\n",
       "<title>13&#45;&gt;14</title>\n",
       "<path fill=\"none\" stroke=\"#000000\" d=\"M776.1669,-88.9777C763.2143,-79.3629 749.1465,-68.9203 736.2867,-59.3743\"/>\n",
       "<polygon fill=\"#000000\" stroke=\"#000000\" points=\"738.1499,-56.3986 728.0342,-53.2485 733.9776,-62.0193 738.1499,-56.3986\"/>\n",
       "</g>\n",
       "<!-- 15 -->\n",
       "<g id=\"node16\" class=\"node\">\n",
       "<title>15</title>\n",
       "<path fill=\"#399de5\" stroke=\"#000000\" d=\"M878,-53C878,-53 782,-53 782,-53 776,-53 770,-47 770,-41 770,-41 770,-12 770,-12 770,-6 776,0 782,0 782,0 878,0 878,0 884,0 890,-6 890,-12 890,-12 890,-41 890,-41 890,-47 884,-53 878,-53\"/>\n",
       "<text text-anchor=\"middle\" x=\"830\" y=\"-37.8\" font-family=\"Helvetica,sans-Serif\" font-size=\"14.00\" fill=\"#000000\">gini = 0.0</text>\n",
       "<text text-anchor=\"middle\" x=\"830\" y=\"-22.8\" font-family=\"Helvetica,sans-Serif\" font-size=\"14.00\" fill=\"#000000\">samples = 0.8%</text>\n",
       "<text text-anchor=\"middle\" x=\"830\" y=\"-7.8\" font-family=\"Helvetica,sans-Serif\" font-size=\"14.00\" fill=\"#000000\">value = [0.0, 1.0]</text>\n",
       "</g>\n",
       "<!-- 13&#45;&gt;15 -->\n",
       "<g id=\"edge15\" class=\"edge\">\n",
       "<title>13&#45;&gt;15</title>\n",
       "<path fill=\"none\" stroke=\"#000000\" d=\"M824.8205,-88.9777C825.5113,-80.6449 826.2537,-71.6903 826.9545,-63.2364\"/>\n",
       "<polygon fill=\"#000000\" stroke=\"#000000\" points=\"830.4443,-63.5035 827.7825,-53.2485 823.4682,-62.9251 830.4443,-63.5035\"/>\n",
       "</g>\n",
       "<!-- 17 -->\n",
       "<g id=\"node18\" class=\"node\">\n",
       "<title>17</title>\n",
       "<path fill=\"#e58139\" stroke=\"#000000\" d=\"M1016,-53C1016,-53 920,-53 920,-53 914,-53 908,-47 908,-41 908,-41 908,-12 908,-12 908,-6 914,0 920,0 920,0 1016,0 1016,0 1022,0 1028,-6 1028,-12 1028,-12 1028,-41 1028,-41 1028,-47 1022,-53 1016,-53\"/>\n",
       "<text text-anchor=\"middle\" x=\"968\" y=\"-37.8\" font-family=\"Helvetica,sans-Serif\" font-size=\"14.00\" fill=\"#000000\">gini = 0.0</text>\n",
       "<text text-anchor=\"middle\" x=\"968\" y=\"-22.8\" font-family=\"Helvetica,sans-Serif\" font-size=\"14.00\" fill=\"#000000\">samples = 1.3%</text>\n",
       "<text text-anchor=\"middle\" x=\"968\" y=\"-7.8\" font-family=\"Helvetica,sans-Serif\" font-size=\"14.00\" fill=\"#000000\">value = [1.0, 0.0]</text>\n",
       "</g>\n",
       "<!-- 16&#45;&gt;17 -->\n",
       "<g id=\"edge17\" class=\"edge\">\n",
       "<title>16&#45;&gt;17</title>\n",
       "<path fill=\"none\" stroke=\"#000000\" d=\"M973.1795,-88.9777C972.4887,-80.6449 971.7463,-71.6903 971.0455,-63.2364\"/>\n",
       "<polygon fill=\"#000000\" stroke=\"#000000\" points=\"974.5318,-62.9251 970.2175,-53.2485 967.5557,-63.5035 974.5318,-62.9251\"/>\n",
       "</g>\n",
       "<!-- 18 -->\n",
       "<g id=\"node19\" class=\"node\">\n",
       "<title>18</title>\n",
       "<path fill=\"#d1e8f9\" stroke=\"#000000\" d=\"M1186,-53C1186,-53 1058,-53 1058,-53 1052,-53 1046,-47 1046,-41 1046,-41 1046,-12 1046,-12 1046,-6 1052,0 1058,0 1058,0 1186,0 1186,0 1192,0 1198,-6 1198,-12 1198,-12 1198,-41 1198,-41 1198,-47 1192,-53 1186,-53\"/>\n",
       "<text text-anchor=\"middle\" x=\"1122\" y=\"-37.8\" font-family=\"Helvetica,sans-Serif\" font-size=\"14.00\" fill=\"#000000\">gini = 0.491</text>\n",
       "<text text-anchor=\"middle\" x=\"1122\" y=\"-22.8\" font-family=\"Helvetica,sans-Serif\" font-size=\"14.00\" fill=\"#000000\">samples = 11.1%</text>\n",
       "<text text-anchor=\"middle\" x=\"1122\" y=\"-7.8\" font-family=\"Helvetica,sans-Serif\" font-size=\"14.00\" fill=\"#000000\">value = [0.435, 0.565]</text>\n",
       "</g>\n",
       "<!-- 16&#45;&gt;18 -->\n",
       "<g id=\"edge18\" class=\"edge\">\n",
       "<title>16&#45;&gt;18</title>\n",
       "<path fill=\"none\" stroke=\"#000000\" d=\"M1027.4741,-88.9777C1042.298,-79.1798 1058.4224,-68.5222 1073.0865,-58.8298\"/>\n",
       "<polygon fill=\"#000000\" stroke=\"#000000\" points=\"1075.1183,-61.6824 1081.5308,-53.2485 1071.2585,-55.8427 1075.1183,-61.6824\"/>\n",
       "</g>\n",
       "<!-- 21 -->\n",
       "<g id=\"node22\" class=\"node\">\n",
       "<title>21</title>\n",
       "<path fill=\"#f6d5bd\" stroke=\"#000000\" d=\"M1528,-365C1528,-365 1428,-365 1428,-365 1422,-365 1416,-359 1416,-353 1416,-353 1416,-309 1416,-309 1416,-303 1422,-297 1428,-297 1428,-297 1528,-297 1528,-297 1534,-297 1540,-303 1540,-309 1540,-309 1540,-353 1540,-353 1540,-359 1534,-365 1528,-365\"/>\n",
       "<text text-anchor=\"middle\" x=\"1478\" y=\"-349.8\" font-family=\"Helvetica,sans-Serif\" font-size=\"14.00\" fill=\"#000000\">Age &lt;= 17.5</text>\n",
       "<text text-anchor=\"middle\" x=\"1478\" y=\"-334.8\" font-family=\"Helvetica,sans-Serif\" font-size=\"14.00\" fill=\"#000000\">gini = 0.48</text>\n",
       "<text text-anchor=\"middle\" x=\"1478\" y=\"-319.8\" font-family=\"Helvetica,sans-Serif\" font-size=\"14.00\" fill=\"#000000\">samples = 12.1%</text>\n",
       "<text text-anchor=\"middle\" x=\"1478\" y=\"-304.8\" font-family=\"Helvetica,sans-Serif\" font-size=\"14.00\" fill=\"#000000\">value = [0.6, 0.4]</text>\n",
       "</g>\n",
       "<!-- 20&#45;&gt;21 -->\n",
       "<g id=\"edge21\" class=\"edge\">\n",
       "<title>20&#45;&gt;21</title>\n",
       "<path fill=\"none\" stroke=\"#000000\" d=\"M1478,-400.9465C1478,-392.776 1478,-383.9318 1478,-375.3697\"/>\n",
       "<polygon fill=\"#000000\" stroke=\"#000000\" points=\"1481.5001,-375.13 1478,-365.13 1474.5001,-375.13 1481.5001,-375.13\"/>\n",
       "</g>\n",
       "<!-- 30 -->\n",
       "<g id=\"node31\" class=\"node\">\n",
       "<title>30</title>\n",
       "<path fill=\"#e99356\" stroke=\"#000000\" d=\"M1870,-365C1870,-365 1742,-365 1742,-365 1736,-365 1730,-359 1730,-353 1730,-353 1730,-309 1730,-309 1730,-303 1736,-297 1742,-297 1742,-297 1870,-297 1870,-297 1876,-297 1882,-303 1882,-309 1882,-309 1882,-353 1882,-353 1882,-359 1876,-365 1870,-365\"/>\n",
       "<text text-anchor=\"middle\" x=\"1806\" y=\"-349.8\" font-family=\"Helvetica,sans-Serif\" font-size=\"14.00\" fill=\"#000000\">Age &lt;= 13.0</text>\n",
       "<text text-anchor=\"middle\" x=\"1806\" y=\"-334.8\" font-family=\"Helvetica,sans-Serif\" font-size=\"14.00\" fill=\"#000000\">gini = 0.22</text>\n",
       "<text text-anchor=\"middle\" x=\"1806\" y=\"-319.8\" font-family=\"Helvetica,sans-Serif\" font-size=\"14.00\" fill=\"#000000\">samples = 53.5%</text>\n",
       "<text text-anchor=\"middle\" x=\"1806\" y=\"-304.8\" font-family=\"Helvetica,sans-Serif\" font-size=\"14.00\" fill=\"#000000\">value = [0.874, 0.126]</text>\n",
       "</g>\n",
       "<!-- 20&#45;&gt;30 -->\n",
       "<g id=\"edge30\" class=\"edge\">\n",
       "<title>20&#45;&gt;30</title>\n",
       "<path fill=\"none\" stroke=\"#000000\" d=\"M1554.0742,-410.8789C1603.6773,-395.1511 1668.5163,-374.5924 1719.9923,-358.2707\"/>\n",
       "<polygon fill=\"#000000\" stroke=\"#000000\" points=\"1721.2965,-361.529 1729.7709,-355.1702 1719.1807,-354.8564 1721.2965,-361.529\"/>\n",
       "</g>\n",
       "<!-- 22 -->\n",
       "<g id=\"node23\" class=\"node\">\n",
       "<title>22</title>\n",
       "<path fill=\"#399de5\" stroke=\"#000000\" d=\"M1449,-253.5C1449,-253.5 1353,-253.5 1353,-253.5 1347,-253.5 1341,-247.5 1341,-241.5 1341,-241.5 1341,-212.5 1341,-212.5 1341,-206.5 1347,-200.5 1353,-200.5 1353,-200.5 1449,-200.5 1449,-200.5 1455,-200.5 1461,-206.5 1461,-212.5 1461,-212.5 1461,-241.5 1461,-241.5 1461,-247.5 1455,-253.5 1449,-253.5\"/>\n",
       "<text text-anchor=\"middle\" x=\"1401\" y=\"-238.3\" font-family=\"Helvetica,sans-Serif\" font-size=\"14.00\" fill=\"#000000\">gini = 0.0</text>\n",
       "<text text-anchor=\"middle\" x=\"1401\" y=\"-223.3\" font-family=\"Helvetica,sans-Serif\" font-size=\"14.00\" fill=\"#000000\">samples = 1.0%</text>\n",
       "<text text-anchor=\"middle\" x=\"1401\" y=\"-208.3\" font-family=\"Helvetica,sans-Serif\" font-size=\"14.00\" fill=\"#000000\">value = [0.0, 1.0]</text>\n",
       "</g>\n",
       "<!-- 21&#45;&gt;22 -->\n",
       "<g id=\"edge22\" class=\"edge\">\n",
       "<title>21&#45;&gt;22</title>\n",
       "<path fill=\"none\" stroke=\"#000000\" d=\"M1452.7873,-296.9465C1444.4689,-285.7113 1435.2073,-273.2021 1426.8426,-261.9043\"/>\n",
       "<polygon fill=\"#000000\" stroke=\"#000000\" points=\"1429.4148,-259.4965 1420.6514,-253.5422 1423.7889,-263.6618 1429.4148,-259.4965\"/>\n",
       "</g>\n",
       "<!-- 23 -->\n",
       "<g id=\"node24\" class=\"node\">\n",
       "<title>23</title>\n",
       "<path fill=\"#f3c4a3\" stroke=\"#000000\" d=\"M1619,-261C1619,-261 1491,-261 1491,-261 1485,-261 1479,-255 1479,-249 1479,-249 1479,-205 1479,-205 1479,-199 1485,-193 1491,-193 1491,-193 1619,-193 1619,-193 1625,-193 1631,-199 1631,-205 1631,-205 1631,-249 1631,-249 1631,-255 1625,-261 1619,-261\"/>\n",
       "<text text-anchor=\"middle\" x=\"1555\" y=\"-245.8\" font-family=\"Helvetica,sans-Serif\" font-size=\"14.00\" fill=\"#000000\">Age &lt;= 53.0</text>\n",
       "<text text-anchor=\"middle\" x=\"1555\" y=\"-230.8\" font-family=\"Helvetica,sans-Serif\" font-size=\"14.00\" fill=\"#000000\">gini = 0.454</text>\n",
       "<text text-anchor=\"middle\" x=\"1555\" y=\"-215.8\" font-family=\"Helvetica,sans-Serif\" font-size=\"14.00\" fill=\"#000000\">samples = 11.1%</text>\n",
       "<text text-anchor=\"middle\" x=\"1555\" y=\"-200.8\" font-family=\"Helvetica,sans-Serif\" font-size=\"14.00\" fill=\"#000000\">value = [0.652, 0.348]</text>\n",
       "</g>\n",
       "<!-- 21&#45;&gt;23 -->\n",
       "<g id=\"edge23\" class=\"edge\">\n",
       "<title>21&#45;&gt;23</title>\n",
       "<path fill=\"none\" stroke=\"#000000\" d=\"M1503.2127,-296.9465C1509.7273,-288.1475 1516.8205,-278.5672 1523.6082,-269.3993\"/>\n",
       "<polygon fill=\"#000000\" stroke=\"#000000\" points=\"1526.5931,-271.2496 1529.7307,-261.13 1520.9673,-267.0843 1526.5931,-271.2496\"/>\n",
       "</g>\n",
       "<!-- 24 -->\n",
       "<g id=\"node25\" class=\"node\">\n",
       "<title>24</title>\n",
       "<path fill=\"#f6d4bb\" stroke=\"#000000\" d=\"M1494,-157C1494,-157 1366,-157 1366,-157 1360,-157 1354,-151 1354,-145 1354,-145 1354,-101 1354,-101 1354,-95 1360,-89 1366,-89 1366,-89 1494,-89 1494,-89 1500,-89 1506,-95 1506,-101 1506,-101 1506,-145 1506,-145 1506,-151 1500,-157 1494,-157\"/>\n",
       "<text text-anchor=\"middle\" x=\"1430\" y=\"-141.8\" font-family=\"Helvetica,sans-Serif\" font-size=\"14.00\" fill=\"#000000\">Age &lt;= 50.5</text>\n",
       "<text text-anchor=\"middle\" x=\"1430\" y=\"-126.8\" font-family=\"Helvetica,sans-Serif\" font-size=\"14.00\" fill=\"#000000\">gini = 0.479</text>\n",
       "<text text-anchor=\"middle\" x=\"1430\" y=\"-111.8\" font-family=\"Helvetica,sans-Serif\" font-size=\"14.00\" fill=\"#000000\">samples = 9.3%</text>\n",
       "<text text-anchor=\"middle\" x=\"1430\" y=\"-96.8\" font-family=\"Helvetica,sans-Serif\" font-size=\"14.00\" fill=\"#000000\">value = [0.603, 0.397]</text>\n",
       "</g>\n",
       "<!-- 23&#45;&gt;24 -->\n",
       "<g id=\"edge24\" class=\"edge\">\n",
       "<title>23&#45;&gt;24</title>\n",
       "<path fill=\"none\" stroke=\"#000000\" d=\"M1514.0703,-192.9465C1502.8472,-183.6088 1490.5663,-173.3911 1478.9427,-163.7203\"/>\n",
       "<polygon fill=\"#000000\" stroke=\"#000000\" points=\"1480.9474,-160.8353 1471.0216,-157.13 1476.4704,-166.2164 1480.9474,-160.8353\"/>\n",
       "</g>\n",
       "<!-- 27 -->\n",
       "<g id=\"node28\" class=\"node\">\n",
       "<title>27</title>\n",
       "<path fill=\"#e88e4d\" stroke=\"#000000\" d=\"M1664,-157C1664,-157 1536,-157 1536,-157 1530,-157 1524,-151 1524,-145 1524,-145 1524,-101 1524,-101 1524,-95 1530,-89 1536,-89 1536,-89 1664,-89 1664,-89 1670,-89 1676,-95 1676,-101 1676,-101 1676,-145 1676,-145 1676,-151 1670,-157 1664,-157\"/>\n",
       "<text text-anchor=\"middle\" x=\"1600\" y=\"-141.8\" font-family=\"Helvetica,sans-Serif\" font-size=\"14.00\" fill=\"#000000\">Age &lt;= 75.5</text>\n",
       "<text text-anchor=\"middle\" x=\"1600\" y=\"-126.8\" font-family=\"Helvetica,sans-Serif\" font-size=\"14.00\" fill=\"#000000\">gini = 0.165</text>\n",
       "<text text-anchor=\"middle\" x=\"1600\" y=\"-111.8\" font-family=\"Helvetica,sans-Serif\" font-size=\"14.00\" fill=\"#000000\">samples = 1.8%</text>\n",
       "<text text-anchor=\"middle\" x=\"1600\" y=\"-96.8\" font-family=\"Helvetica,sans-Serif\" font-size=\"14.00\" fill=\"#000000\">value = [0.909, 0.091]</text>\n",
       "</g>\n",
       "<!-- 23&#45;&gt;27 -->\n",
       "<g id=\"edge27\" class=\"edge\">\n",
       "<title>23&#45;&gt;27</title>\n",
       "<path fill=\"none\" stroke=\"#000000\" d=\"M1569.7347,-192.9465C1573.3865,-184.5067 1577.3494,-175.3479 1581.1676,-166.5239\"/>\n",
       "<polygon fill=\"#000000\" stroke=\"#000000\" points=\"1584.4732,-167.6976 1585.2322,-157.13 1578.0488,-164.9178 1584.4732,-167.6976\"/>\n",
       "</g>\n",
       "<!-- 25 -->\n",
       "<g id=\"node26\" class=\"node\">\n",
       "<title>25</title>\n",
       "<path fill=\"#f5cdb0\" stroke=\"#000000\" d=\"M1356,-53C1356,-53 1228,-53 1228,-53 1222,-53 1216,-47 1216,-41 1216,-41 1216,-12 1216,-12 1216,-6 1222,0 1228,0 1228,0 1356,0 1356,0 1362,0 1368,-6 1368,-12 1368,-12 1368,-41 1368,-41 1368,-47 1362,-53 1356,-53\"/>\n",
       "<text text-anchor=\"middle\" x=\"1292\" y=\"-37.8\" font-family=\"Helvetica,sans-Serif\" font-size=\"14.00\" fill=\"#000000\">gini = 0.469</text>\n",
       "<text text-anchor=\"middle\" x=\"1292\" y=\"-22.8\" font-family=\"Helvetica,sans-Serif\" font-size=\"14.00\" fill=\"#000000\">samples = 9.0%</text>\n",
       "<text text-anchor=\"middle\" x=\"1292\" y=\"-7.8\" font-family=\"Helvetica,sans-Serif\" font-size=\"14.00\" fill=\"#000000\">value = [0.625, 0.375]</text>\n",
       "</g>\n",
       "<!-- 24&#45;&gt;25 -->\n",
       "<g id=\"edge25\" class=\"edge\">\n",
       "<title>24&#45;&gt;25</title>\n",
       "<path fill=\"none\" stroke=\"#000000\" d=\"M1381.3464,-88.9777C1367.4657,-79.2713 1352.3786,-68.7213 1338.6223,-59.1018\"/>\n",
       "<polygon fill=\"#000000\" stroke=\"#000000\" points=\"1340.4526,-56.1109 1330.2517,-53.2485 1336.4411,-61.8475 1340.4526,-56.1109\"/>\n",
       "</g>\n",
       "<!-- 26 -->\n",
       "<g id=\"node27\" class=\"node\">\n",
       "<title>26</title>\n",
       "<path fill=\"#399de5\" stroke=\"#000000\" d=\"M1494,-53C1494,-53 1398,-53 1398,-53 1392,-53 1386,-47 1386,-41 1386,-41 1386,-12 1386,-12 1386,-6 1392,0 1398,0 1398,0 1494,0 1494,0 1500,0 1506,-6 1506,-12 1506,-12 1506,-41 1506,-41 1506,-47 1500,-53 1494,-53\"/>\n",
       "<text text-anchor=\"middle\" x=\"1446\" y=\"-37.8\" font-family=\"Helvetica,sans-Serif\" font-size=\"14.00\" fill=\"#000000\">gini = 0.0</text>\n",
       "<text text-anchor=\"middle\" x=\"1446\" y=\"-22.8\" font-family=\"Helvetica,sans-Serif\" font-size=\"14.00\" fill=\"#000000\">samples = 0.3%</text>\n",
       "<text text-anchor=\"middle\" x=\"1446\" y=\"-7.8\" font-family=\"Helvetica,sans-Serif\" font-size=\"14.00\" fill=\"#000000\">value = [0.0, 1.0]</text>\n",
       "</g>\n",
       "<!-- 24&#45;&gt;26 -->\n",
       "<g id=\"edge26\" class=\"edge\">\n",
       "<title>24&#45;&gt;26</title>\n",
       "<path fill=\"none\" stroke=\"#000000\" d=\"M1435.641,-88.9777C1437.0226,-80.6449 1438.5073,-71.6903 1439.909,-63.2364\"/>\n",
       "<polygon fill=\"#000000\" stroke=\"#000000\" points=\"1443.3821,-63.6863 1441.565,-53.2485 1436.4764,-62.5413 1443.3821,-63.6863\"/>\n",
       "</g>\n",
       "<!-- 28 -->\n",
       "<g id=\"node29\" class=\"node\">\n",
       "<title>28</title>\n",
       "<path fill=\"#e58139\" stroke=\"#000000\" d=\"M1632,-53C1632,-53 1536,-53 1536,-53 1530,-53 1524,-47 1524,-41 1524,-41 1524,-12 1524,-12 1524,-6 1530,0 1536,0 1536,0 1632,0 1632,0 1638,0 1644,-6 1644,-12 1644,-12 1644,-41 1644,-41 1644,-47 1638,-53 1632,-53\"/>\n",
       "<text text-anchor=\"middle\" x=\"1584\" y=\"-37.8\" font-family=\"Helvetica,sans-Serif\" font-size=\"14.00\" fill=\"#000000\">gini = 0.0</text>\n",
       "<text text-anchor=\"middle\" x=\"1584\" y=\"-22.8\" font-family=\"Helvetica,sans-Serif\" font-size=\"14.00\" fill=\"#000000\">samples = 1.6%</text>\n",
       "<text text-anchor=\"middle\" x=\"1584\" y=\"-7.8\" font-family=\"Helvetica,sans-Serif\" font-size=\"14.00\" fill=\"#000000\">value = [1.0, 0.0]</text>\n",
       "</g>\n",
       "<!-- 27&#45;&gt;28 -->\n",
       "<g id=\"edge28\" class=\"edge\">\n",
       "<title>27&#45;&gt;28</title>\n",
       "<path fill=\"none\" stroke=\"#000000\" d=\"M1594.359,-88.9777C1592.9774,-80.6449 1591.4927,-71.6903 1590.091,-63.2364\"/>\n",
       "<polygon fill=\"#000000\" stroke=\"#000000\" points=\"1593.5236,-62.5413 1588.435,-53.2485 1586.6179,-63.6863 1593.5236,-62.5413\"/>\n",
       "</g>\n",
       "<!-- 29 -->\n",
       "<g id=\"node30\" class=\"node\">\n",
       "<title>29</title>\n",
       "<path fill=\"#399de5\" stroke=\"#000000\" d=\"M1770,-53C1770,-53 1674,-53 1674,-53 1668,-53 1662,-47 1662,-41 1662,-41 1662,-12 1662,-12 1662,-6 1668,0 1674,0 1674,0 1770,0 1770,0 1776,0 1782,-6 1782,-12 1782,-12 1782,-41 1782,-41 1782,-47 1776,-53 1770,-53\"/>\n",
       "<text text-anchor=\"middle\" x=\"1722\" y=\"-37.8\" font-family=\"Helvetica,sans-Serif\" font-size=\"14.00\" fill=\"#000000\">gini = 0.0</text>\n",
       "<text text-anchor=\"middle\" x=\"1722\" y=\"-22.8\" font-family=\"Helvetica,sans-Serif\" font-size=\"14.00\" fill=\"#000000\">samples = 0.2%</text>\n",
       "<text text-anchor=\"middle\" x=\"1722\" y=\"-7.8\" font-family=\"Helvetica,sans-Serif\" font-size=\"14.00\" fill=\"#000000\">value = [0.0, 1.0]</text>\n",
       "</g>\n",
       "<!-- 27&#45;&gt;29 -->\n",
       "<g id=\"edge29\" class=\"edge\">\n",
       "<title>27&#45;&gt;29</title>\n",
       "<path fill=\"none\" stroke=\"#000000\" d=\"M1643.0126,-88.9777C1655.0524,-79.4545 1668.1188,-69.1191 1680.0935,-59.6473\"/>\n",
       "<polygon fill=\"#000000\" stroke=\"#000000\" points=\"1682.5115,-62.1973 1688.1833,-53.2485 1678.1689,-56.7072 1682.5115,-62.1973\"/>\n",
       "</g>\n",
       "<!-- 31 -->\n",
       "<g id=\"node32\" class=\"node\">\n",
       "<title>31</title>\n",
       "<path fill=\"#fbeade\" stroke=\"#000000\" d=\"M1870,-261C1870,-261 1742,-261 1742,-261 1736,-261 1730,-255 1730,-249 1730,-249 1730,-205 1730,-205 1730,-199 1736,-193 1742,-193 1742,-193 1870,-193 1870,-193 1876,-193 1882,-199 1882,-205 1882,-205 1882,-249 1882,-249 1882,-255 1876,-261 1870,-261\"/>\n",
       "<text text-anchor=\"middle\" x=\"1806\" y=\"-245.8\" font-family=\"Helvetica,sans-Serif\" font-size=\"14.00\" fill=\"#000000\">Pclass &lt;= 2.5</text>\n",
       "<text text-anchor=\"middle\" x=\"1806\" y=\"-230.8\" font-family=\"Helvetica,sans-Serif\" font-size=\"14.00\" fill=\"#000000\">gini = 0.496</text>\n",
       "<text text-anchor=\"middle\" x=\"1806\" y=\"-215.8\" font-family=\"Helvetica,sans-Serif\" font-size=\"14.00\" fill=\"#000000\">samples = 3.5%</text>\n",
       "<text text-anchor=\"middle\" x=\"1806\" y=\"-200.8\" font-family=\"Helvetica,sans-Serif\" font-size=\"14.00\" fill=\"#000000\">value = [0.545, 0.455]</text>\n",
       "</g>\n",
       "<!-- 30&#45;&gt;31 -->\n",
       "<g id=\"edge31\" class=\"edge\">\n",
       "<title>30&#45;&gt;31</title>\n",
       "<path fill=\"none\" stroke=\"#000000\" d=\"M1806,-296.9465C1806,-288.776 1806,-279.9318 1806,-271.3697\"/>\n",
       "<polygon fill=\"#000000\" stroke=\"#000000\" points=\"1809.5001,-271.13 1806,-261.13 1802.5001,-271.13 1809.5001,-271.13\"/>\n",
       "</g>\n",
       "<!-- 36 -->\n",
       "<g id=\"node37\" class=\"node\">\n",
       "<title>36</title>\n",
       "<path fill=\"#e88f50\" stroke=\"#000000\" d=\"M2309,-261C2309,-261 2181,-261 2181,-261 2175,-261 2169,-255 2169,-249 2169,-249 2169,-205 2169,-205 2169,-199 2175,-193 2181,-193 2181,-193 2309,-193 2309,-193 2315,-193 2321,-199 2321,-205 2321,-205 2321,-249 2321,-249 2321,-255 2315,-261 2309,-261\"/>\n",
       "<text text-anchor=\"middle\" x=\"2245\" y=\"-245.8\" font-family=\"Helvetica,sans-Serif\" font-size=\"14.00\" fill=\"#000000\">Pclass &lt;= 1.5</text>\n",
       "<text text-anchor=\"middle\" x=\"2245\" y=\"-230.8\" font-family=\"Helvetica,sans-Serif\" font-size=\"14.00\" fill=\"#000000\">gini = 0.185</text>\n",
       "<text text-anchor=\"middle\" x=\"2245\" y=\"-215.8\" font-family=\"Helvetica,sans-Serif\" font-size=\"14.00\" fill=\"#000000\">samples = 50.0%</text>\n",
       "<text text-anchor=\"middle\" x=\"2245\" y=\"-200.8\" font-family=\"Helvetica,sans-Serif\" font-size=\"14.00\" fill=\"#000000\">value = [0.897, 0.103]</text>\n",
       "</g>\n",
       "<!-- 30&#45;&gt;36 -->\n",
       "<g id=\"edge36\" class=\"edge\">\n",
       "<title>30&#45;&gt;36</title>\n",
       "<path fill=\"none\" stroke=\"#000000\" d=\"M1882.468,-312.8846C1959.503,-294.6348 2078.1695,-266.5225 2158.5728,-247.4748\"/>\n",
       "<polygon fill=\"#000000\" stroke=\"#000000\" points=\"2159.7493,-250.793 2168.6731,-245.082 2158.1356,-243.9816 2159.7493,-250.793\"/>\n",
       "</g>\n",
       "<!-- 32 -->\n",
       "<g id=\"node33\" class=\"node\">\n",
       "<title>32</title>\n",
       "<path fill=\"#399de5\" stroke=\"#000000\" d=\"M1810,-149.5C1810,-149.5 1714,-149.5 1714,-149.5 1708,-149.5 1702,-143.5 1702,-137.5 1702,-137.5 1702,-108.5 1702,-108.5 1702,-102.5 1708,-96.5 1714,-96.5 1714,-96.5 1810,-96.5 1810,-96.5 1816,-96.5 1822,-102.5 1822,-108.5 1822,-108.5 1822,-137.5 1822,-137.5 1822,-143.5 1816,-149.5 1810,-149.5\"/>\n",
       "<text text-anchor=\"middle\" x=\"1762\" y=\"-134.3\" font-family=\"Helvetica,sans-Serif\" font-size=\"14.00\" fill=\"#000000\">gini = 0.0</text>\n",
       "<text text-anchor=\"middle\" x=\"1762\" y=\"-119.3\" font-family=\"Helvetica,sans-Serif\" font-size=\"14.00\" fill=\"#000000\">samples = 0.3%</text>\n",
       "<text text-anchor=\"middle\" x=\"1762\" y=\"-104.3\" font-family=\"Helvetica,sans-Serif\" font-size=\"14.00\" fill=\"#000000\">value = [0.0, 1.0]</text>\n",
       "</g>\n",
       "<!-- 31&#45;&gt;32 -->\n",
       "<g id=\"edge32\" class=\"edge\">\n",
       "<title>31&#45;&gt;32</title>\n",
       "<path fill=\"none\" stroke=\"#000000\" d=\"M1791.5928,-192.9465C1786.9792,-182.0418 1781.8579,-169.9368 1777.1903,-158.9043\"/>\n",
       "<polygon fill=\"#000000\" stroke=\"#000000\" points=\"1780.3492,-157.3881 1773.2294,-149.5422 1773.9024,-160.1156 1780.3492,-157.3881\"/>\n",
       "</g>\n",
       "<!-- 33 -->\n",
       "<g id=\"node34\" class=\"node\">\n",
       "<title>33</title>\n",
       "<path fill=\"#f6d5bd\" stroke=\"#000000\" d=\"M1948,-157C1948,-157 1852,-157 1852,-157 1846,-157 1840,-151 1840,-145 1840,-145 1840,-101 1840,-101 1840,-95 1846,-89 1852,-89 1852,-89 1948,-89 1948,-89 1954,-89 1960,-95 1960,-101 1960,-101 1960,-145 1960,-145 1960,-151 1954,-157 1948,-157\"/>\n",
       "<text text-anchor=\"middle\" x=\"1900\" y=\"-141.8\" font-family=\"Helvetica,sans-Serif\" font-size=\"14.00\" fill=\"#000000\">Age &lt;= 0.71</text>\n",
       "<text text-anchor=\"middle\" x=\"1900\" y=\"-126.8\" font-family=\"Helvetica,sans-Serif\" font-size=\"14.00\" fill=\"#000000\">gini = 0.48</text>\n",
       "<text text-anchor=\"middle\" x=\"1900\" y=\"-111.8\" font-family=\"Helvetica,sans-Serif\" font-size=\"14.00\" fill=\"#000000\">samples = 3.2%</text>\n",
       "<text text-anchor=\"middle\" x=\"1900\" y=\"-96.8\" font-family=\"Helvetica,sans-Serif\" font-size=\"14.00\" fill=\"#000000\">value = [0.6, 0.4]</text>\n",
       "</g>\n",
       "<!-- 31&#45;&gt;33 -->\n",
       "<g id=\"edge33\" class=\"edge\">\n",
       "<title>31&#45;&gt;33</title>\n",
       "<path fill=\"none\" stroke=\"#000000\" d=\"M1836.7791,-192.9465C1844.9755,-183.8782 1853.922,-173.9799 1862.4375,-164.5585\"/>\n",
       "<polygon fill=\"#000000\" stroke=\"#000000\" points=\"1865.0429,-166.8957 1869.1517,-157.13 1859.8497,-162.2019 1865.0429,-166.8957\"/>\n",
       "</g>\n",
       "<!-- 34 -->\n",
       "<g id=\"node35\" class=\"node\">\n",
       "<title>34</title>\n",
       "<path fill=\"#399de5\" stroke=\"#000000\" d=\"M1908,-53C1908,-53 1812,-53 1812,-53 1806,-53 1800,-47 1800,-41 1800,-41 1800,-12 1800,-12 1800,-6 1806,0 1812,0 1812,0 1908,0 1908,0 1914,0 1920,-6 1920,-12 1920,-12 1920,-41 1920,-41 1920,-47 1914,-53 1908,-53\"/>\n",
       "<text text-anchor=\"middle\" x=\"1860\" y=\"-37.8\" font-family=\"Helvetica,sans-Serif\" font-size=\"14.00\" fill=\"#000000\">gini = 0.0</text>\n",
       "<text text-anchor=\"middle\" x=\"1860\" y=\"-22.8\" font-family=\"Helvetica,sans-Serif\" font-size=\"14.00\" fill=\"#000000\">samples = 0.2%</text>\n",
       "<text text-anchor=\"middle\" x=\"1860\" y=\"-7.8\" font-family=\"Helvetica,sans-Serif\" font-size=\"14.00\" fill=\"#000000\">value = [0.0, 1.0]</text>\n",
       "</g>\n",
       "<!-- 33&#45;&gt;34 -->\n",
       "<g id=\"edge34\" class=\"edge\">\n",
       "<title>33&#45;&gt;34</title>\n",
       "<path fill=\"none\" stroke=\"#000000\" d=\"M1885.8975,-88.9777C1882.3676,-80.4617 1878.5684,-71.2963 1874.9968,-62.6798\"/>\n",
       "<polygon fill=\"#000000\" stroke=\"#000000\" points=\"1878.1499,-61.1461 1871.0875,-53.2485 1871.6834,-63.8265 1878.1499,-61.1461\"/>\n",
       "</g>\n",
       "<!-- 35 -->\n",
       "<g id=\"node36\" class=\"node\">\n",
       "<title>35</title>\n",
       "<path fill=\"#f4caac\" stroke=\"#000000\" d=\"M2078,-53C2078,-53 1950,-53 1950,-53 1944,-53 1938,-47 1938,-41 1938,-41 1938,-12 1938,-12 1938,-6 1944,0 1950,0 1950,0 2078,0 2078,0 2084,0 2090,-6 2090,-12 2090,-12 2090,-41 2090,-41 2090,-47 2084,-53 2078,-53\"/>\n",
       "<text text-anchor=\"middle\" x=\"2014\" y=\"-37.8\" font-family=\"Helvetica,sans-Serif\" font-size=\"14.00\" fill=\"#000000\">gini = 0.465</text>\n",
       "<text text-anchor=\"middle\" x=\"2014\" y=\"-22.8\" font-family=\"Helvetica,sans-Serif\" font-size=\"14.00\" fill=\"#000000\">samples = 3.1%</text>\n",
       "<text text-anchor=\"middle\" x=\"2014\" y=\"-7.8\" font-family=\"Helvetica,sans-Serif\" font-size=\"14.00\" fill=\"#000000\">value = [0.632, 0.368]</text>\n",
       "</g>\n",
       "<!-- 33&#45;&gt;35 -->\n",
       "<g id=\"edge35\" class=\"edge\">\n",
       "<title>33&#45;&gt;35</title>\n",
       "<path fill=\"none\" stroke=\"#000000\" d=\"M1940.1921,-88.9777C1951.3342,-79.546 1963.4173,-69.3178 1974.5185,-59.9208\"/>\n",
       "<polygon fill=\"#000000\" stroke=\"#000000\" points=\"1977.0295,-62.3809 1982.4008,-53.2485 1972.5068,-57.038 1977.0295,-62.3809\"/>\n",
       "</g>\n",
       "<!-- 37 -->\n",
       "<g id=\"node38\" class=\"node\">\n",
       "<title>37</title>\n",
       "<path fill=\"#eeae80\" stroke=\"#000000\" d=\"M2309,-157C2309,-157 2181,-157 2181,-157 2175,-157 2169,-151 2169,-145 2169,-145 2169,-101 2169,-101 2169,-95 2175,-89 2181,-89 2181,-89 2309,-89 2309,-89 2315,-89 2321,-95 2321,-101 2321,-101 2321,-145 2321,-145 2321,-151 2315,-157 2309,-157\"/>\n",
       "<text text-anchor=\"middle\" x=\"2245\" y=\"-141.8\" font-family=\"Helvetica,sans-Serif\" font-size=\"14.00\" fill=\"#000000\">Age &lt;= 27.5</text>\n",
       "<text text-anchor=\"middle\" x=\"2245\" y=\"-126.8\" font-family=\"Helvetica,sans-Serif\" font-size=\"14.00\" fill=\"#000000\">gini = 0.388</text>\n",
       "<text text-anchor=\"middle\" x=\"2245\" y=\"-111.8\" font-family=\"Helvetica,sans-Serif\" font-size=\"14.00\" fill=\"#000000\">samples = 3.1%</text>\n",
       "<text text-anchor=\"middle\" x=\"2245\" y=\"-96.8\" font-family=\"Helvetica,sans-Serif\" font-size=\"14.00\" fill=\"#000000\">value = [0.737, 0.263]</text>\n",
       "</g>\n",
       "<!-- 36&#45;&gt;37 -->\n",
       "<g id=\"edge37\" class=\"edge\">\n",
       "<title>36&#45;&gt;37</title>\n",
       "<path fill=\"none\" stroke=\"#000000\" d=\"M2245,-192.9465C2245,-184.776 2245,-175.9318 2245,-167.3697\"/>\n",
       "<polygon fill=\"#000000\" stroke=\"#000000\" points=\"2248.5001,-167.13 2245,-157.13 2241.5001,-167.13 2248.5001,-167.13\"/>\n",
       "</g>\n",
       "<!-- 40 -->\n",
       "<g id=\"node41\" class=\"node\">\n",
       "<title>40</title>\n",
       "<path fill=\"#e88e4d\" stroke=\"#000000\" d=\"M2556,-157C2556,-157 2428,-157 2428,-157 2422,-157 2416,-151 2416,-145 2416,-145 2416,-101 2416,-101 2416,-95 2422,-89 2428,-89 2428,-89 2556,-89 2556,-89 2562,-89 2568,-95 2568,-101 2568,-101 2568,-145 2568,-145 2568,-151 2562,-157 2556,-157\"/>\n",
       "<text text-anchor=\"middle\" x=\"2492\" y=\"-141.8\" font-family=\"Helvetica,sans-Serif\" font-size=\"14.00\" fill=\"#000000\">Age &lt;= 32.25</text>\n",
       "<text text-anchor=\"middle\" x=\"2492\" y=\"-126.8\" font-family=\"Helvetica,sans-Serif\" font-size=\"14.00\" fill=\"#000000\">gini = 0.168</text>\n",
       "<text text-anchor=\"middle\" x=\"2492\" y=\"-111.8\" font-family=\"Helvetica,sans-Serif\" font-size=\"14.00\" fill=\"#000000\">samples = 46.9%</text>\n",
       "<text text-anchor=\"middle\" x=\"2492\" y=\"-96.8\" font-family=\"Helvetica,sans-Serif\" font-size=\"14.00\" fill=\"#000000\">value = [0.908, 0.092]</text>\n",
       "</g>\n",
       "<!-- 36&#45;&gt;40 -->\n",
       "<g id=\"edge40\" class=\"edge\">\n",
       "<title>36&#45;&gt;40</title>\n",
       "<path fill=\"none\" stroke=\"#000000\" d=\"M2321.1236,-194.948C2348.122,-183.5802 2378.6808,-170.7134 2406.4147,-159.0359\"/>\n",
       "<polygon fill=\"#000000\" stroke=\"#000000\" points=\"2407.8444,-162.2316 2415.7026,-155.1252 2405.128,-155.7801 2407.8444,-162.2316\"/>\n",
       "</g>\n",
       "<!-- 38 -->\n",
       "<g id=\"node39\" class=\"node\">\n",
       "<title>38</title>\n",
       "<path fill=\"#399de5\" stroke=\"#000000\" d=\"M2216,-53C2216,-53 2120,-53 2120,-53 2114,-53 2108,-47 2108,-41 2108,-41 2108,-12 2108,-12 2108,-6 2114,0 2120,0 2120,0 2216,0 2216,0 2222,0 2228,-6 2228,-12 2228,-12 2228,-41 2228,-41 2228,-47 2222,-53 2216,-53\"/>\n",
       "<text text-anchor=\"middle\" x=\"2168\" y=\"-37.8\" font-family=\"Helvetica,sans-Serif\" font-size=\"14.00\" fill=\"#000000\">gini = 0.0</text>\n",
       "<text text-anchor=\"middle\" x=\"2168\" y=\"-22.8\" font-family=\"Helvetica,sans-Serif\" font-size=\"14.00\" fill=\"#000000\">samples = 0.2%</text>\n",
       "<text text-anchor=\"middle\" x=\"2168\" y=\"-7.8\" font-family=\"Helvetica,sans-Serif\" font-size=\"14.00\" fill=\"#000000\">value = [0.0, 1.0]</text>\n",
       "</g>\n",
       "<!-- 37&#45;&gt;38 -->\n",
       "<g id=\"edge38\" class=\"edge\">\n",
       "<title>37&#45;&gt;38</title>\n",
       "<path fill=\"none\" stroke=\"#000000\" d=\"M2217.8527,-88.9777C2210.6922,-80.0039 2202.9564,-70.3089 2195.7639,-61.295\"/>\n",
       "<polygon fill=\"#000000\" stroke=\"#000000\" points=\"2198.3163,-58.8821 2189.3433,-53.2485 2192.8446,-63.2481 2198.3163,-58.8821\"/>\n",
       "</g>\n",
       "<!-- 39 -->\n",
       "<g id=\"node40\" class=\"node\">\n",
       "<title>39</title>\n",
       "<path fill=\"#eca572\" stroke=\"#000000\" d=\"M2386,-53C2386,-53 2258,-53 2258,-53 2252,-53 2246,-47 2246,-41 2246,-41 2246,-12 2246,-12 2246,-6 2252,0 2258,0 2258,0 2386,0 2386,0 2392,0 2398,-6 2398,-12 2398,-12 2398,-41 2398,-41 2398,-47 2392,-53 2386,-53\"/>\n",
       "<text text-anchor=\"middle\" x=\"2322\" y=\"-37.8\" font-family=\"Helvetica,sans-Serif\" font-size=\"14.00\" fill=\"#000000\">gini = 0.346</text>\n",
       "<text text-anchor=\"middle\" x=\"2322\" y=\"-22.8\" font-family=\"Helvetica,sans-Serif\" font-size=\"14.00\" fill=\"#000000\">samples = 2.9%</text>\n",
       "<text text-anchor=\"middle\" x=\"2322\" y=\"-7.8\" font-family=\"Helvetica,sans-Serif\" font-size=\"14.00\" fill=\"#000000\">value = [0.778, 0.222]</text>\n",
       "</g>\n",
       "<!-- 37&#45;&gt;39 -->\n",
       "<g id=\"edge39\" class=\"edge\">\n",
       "<title>37&#45;&gt;39</title>\n",
       "<path fill=\"none\" stroke=\"#000000\" d=\"M2272.1473,-88.9777C2279.3078,-80.0039 2287.0436,-70.3089 2294.2361,-61.295\"/>\n",
       "<polygon fill=\"#000000\" stroke=\"#000000\" points=\"2297.1554,-63.2481 2300.6567,-53.2485 2291.6837,-58.8821 2297.1554,-63.2481\"/>\n",
       "</g>\n",
       "<!-- 41 -->\n",
       "<g id=\"node42\" class=\"node\">\n",
       "<title>41</title>\n",
       "<path fill=\"#e99254\" stroke=\"#000000\" d=\"M2556,-53C2556,-53 2428,-53 2428,-53 2422,-53 2416,-47 2416,-41 2416,-41 2416,-12 2416,-12 2416,-6 2422,0 2428,0 2428,0 2556,0 2556,0 2562,0 2568,-6 2568,-12 2568,-12 2568,-41 2568,-41 2568,-47 2562,-53 2556,-53\"/>\n",
       "<text text-anchor=\"middle\" x=\"2492\" y=\"-37.8\" font-family=\"Helvetica,sans-Serif\" font-size=\"14.00\" fill=\"#000000\">gini = 0.21</text>\n",
       "<text text-anchor=\"middle\" x=\"2492\" y=\"-22.8\" font-family=\"Helvetica,sans-Serif\" font-size=\"14.00\" fill=\"#000000\">samples = 35.0%</text>\n",
       "<text text-anchor=\"middle\" x=\"2492\" y=\"-7.8\" font-family=\"Helvetica,sans-Serif\" font-size=\"14.00\" fill=\"#000000\">value = [0.881, 0.119]</text>\n",
       "</g>\n",
       "<!-- 40&#45;&gt;41 -->\n",
       "<g id=\"edge41\" class=\"edge\">\n",
       "<title>40&#45;&gt;41</title>\n",
       "<path fill=\"none\" stroke=\"#000000\" d=\"M2492,-88.9777C2492,-80.7364 2492,-71.887 2492,-63.5153\"/>\n",
       "<polygon fill=\"#000000\" stroke=\"#000000\" points=\"2495.5001,-63.2484 2492,-53.2485 2488.5001,-63.2485 2495.5001,-63.2484\"/>\n",
       "</g>\n",
       "<!-- 42 -->\n",
       "<g id=\"node43\" class=\"node\">\n",
       "<title>42</title>\n",
       "<path fill=\"#e5833c\" stroke=\"#000000\" d=\"M2726,-53C2726,-53 2598,-53 2598,-53 2592,-53 2586,-47 2586,-41 2586,-41 2586,-12 2586,-12 2586,-6 2592,0 2598,0 2598,0 2726,0 2726,0 2732,0 2738,-6 2738,-12 2738,-12 2738,-41 2738,-41 2738,-47 2732,-53 2726,-53\"/>\n",
       "<text text-anchor=\"middle\" x=\"2662\" y=\"-37.8\" font-family=\"Helvetica,sans-Serif\" font-size=\"14.00\" fill=\"#000000\">gini = 0.027</text>\n",
       "<text text-anchor=\"middle\" x=\"2662\" y=\"-22.8\" font-family=\"Helvetica,sans-Serif\" font-size=\"14.00\" fill=\"#000000\">samples = 11.9%</text>\n",
       "<text text-anchor=\"middle\" x=\"2662\" y=\"-7.8\" font-family=\"Helvetica,sans-Serif\" font-size=\"14.00\" fill=\"#000000\">value = [0.986, 0.014]</text>\n",
       "</g>\n",
       "<!-- 40&#45;&gt;42 -->\n",
       "<g id=\"edge42\" class=\"edge\">\n",
       "<title>40&#45;&gt;42</title>\n",
       "<path fill=\"none\" stroke=\"#000000\" d=\"M2551.9356,-88.9777C2569.6003,-78.9504 2588.8511,-68.0228 2606.2421,-58.1508\"/>\n",
       "<polygon fill=\"#000000\" stroke=\"#000000\" points=\"2608.1799,-61.0755 2615.1487,-53.095 2604.7243,-54.9879 2608.1799,-61.0755\"/>\n",
       "</g>\n",
       "</g>\n",
       "</svg>\n"
      ],
      "text/plain": [
       "<graphviz.files.Source at 0x7fc6647f6100>"
      ]
     },
     "execution_count": 375,
     "metadata": {},
     "output_type": "execute_result"
    }
   ],
   "source": [
    "predictors = ['Cabin', 'Pclass', 'Age', 'Sex']\n",
    "X = df[predictors].values\n",
    "y = df['Survived'].values\n",
    "\n",
    "# test train split\n",
    "X_train, X_test, y_train, y_test = train_test_split(X, y, test_size=0.30, random_state=0)\n",
    "\n",
    "# train the tree model\n",
    "clf = DecisionTreeClassifier(max_depth=5, random_state=0)\n",
    "clf.fit(X_train, y_train)\n",
    "\n",
    "target_names=['Yes', 'No']\n",
    "data = export_graphviz(clf,feature_names=predictors,filled=True, rounded=True, proportion=True)\n",
    "graph = graphviz.Source(data)\n",
    "graph"
   ]
  },
  {
   "cell_type": "markdown",
   "metadata": {
    "id": "1SbVfLpihOh_"
   },
   "source": [
    "## Making predictions and assessing your model"
   ]
  },
  {
   "cell_type": "markdown",
   "metadata": {},
   "source": [
    "First I want to get the blind prediction and baseline accuracy so I know what to compare to when tuning my machine learning algorithm."
   ]
  },
  {
   "cell_type": "code",
   "execution_count": 376,
   "metadata": {},
   "outputs": [
    {
     "name": "stdout",
     "output_type": "stream",
     "text": [
      "Baseline accuracy: 0.59\n"
     ]
    }
   ],
   "source": [
    "blind_prediction=np.median(y_train) # with binary target variable, the most common value is also the median value\n",
    "print(\"Baseline accuracy: {:.2f}\".format((blind_prediction == y_test).mean()))"
   ]
  },
  {
   "cell_type": "markdown",
   "metadata": {},
   "source": [
    "I will get predictions from my initial model and get accuracy and the confusion matrix."
   ]
  },
  {
   "cell_type": "code",
   "execution_count": 377,
   "metadata": {},
   "outputs": [
    {
     "name": "stdout",
     "output_type": "stream",
     "text": [
      "Initial test accuracy: 0.78\n"
     ]
    },
    {
     "data": {
      "text/html": [
       "<div>\n",
       "<style scoped>\n",
       "    .dataframe tbody tr th:only-of-type {\n",
       "        vertical-align: middle;\n",
       "    }\n",
       "\n",
       "    .dataframe tbody tr th {\n",
       "        vertical-align: top;\n",
       "    }\n",
       "\n",
       "    .dataframe thead th {\n",
       "        text-align: right;\n",
       "    }\n",
       "</style>\n",
       "<table border=\"1\" class=\"dataframe\">\n",
       "  <thead>\n",
       "    <tr style=\"text-align: right;\">\n",
       "      <th>Predicted</th>\n",
       "      <th>0</th>\n",
       "      <th>1</th>\n",
       "    </tr>\n",
       "    <tr>\n",
       "      <th>Actual</th>\n",
       "      <th></th>\n",
       "      <th></th>\n",
       "    </tr>\n",
       "  </thead>\n",
       "  <tbody>\n",
       "    <tr>\n",
       "      <th>0</th>\n",
       "      <td>132</td>\n",
       "      <td>25</td>\n",
       "    </tr>\n",
       "    <tr>\n",
       "      <th>1</th>\n",
       "      <td>33</td>\n",
       "      <td>77</td>\n",
       "    </tr>\n",
       "  </tbody>\n",
       "</table>\n",
       "</div>"
      ],
      "text/plain": [
       "Predicted    0   1\n",
       "Actual            \n",
       "0          132  25\n",
       "1           33  77"
      ]
     },
     "execution_count": 377,
     "metadata": {},
     "output_type": "execute_result"
    }
   ],
   "source": [
    "y_predict = clf.predict(X_test)\n",
    "\n",
    "print(\"Initial test accuracy: {:.2f}\".format((y_predict == y_test).mean()))\n",
    "pd.crosstab(y_test, columns=y_predict, colnames=['Predicted'], rownames=['Actual'])"
   ]
  },
  {
   "cell_type": "code",
   "execution_count": 378,
   "metadata": {},
   "outputs": [
    {
     "data": {
      "image/png": "[encoded data removed]",
      "text/plain": [
       "<Figure size 432x288 with 1 Axes>"
      ]
     },
     "metadata": {
      "needs_background": "light"
     },
     "output_type": "display_data"
    }
   ],
   "source": [
    "train_sizes, train_scores, test_scores = learning_curve(clf, X_train, y_train, cv=10, scoring='accuracy')\n",
    "train_scores_mean = np.mean(train_scores, axis=1)\n",
    "test_scores_mean = np.mean(test_scores, axis=1)\n",
    "\n",
    "plt.plot(train_sizes, train_scores_mean, label='train')\n",
    "plt.plot(train_sizes, test_scores_mean, label='test')\n",
    "plt.xlabel('Training set size')\n",
    "plt.ylabel('Accuracy')\n",
    "plt.title('Learning curve, decision tree')\n",
    "plt.legend();"
   ]
  },
  {
   "cell_type": "markdown",
   "metadata": {},
   "source": [
    "There is a large gap between the two curves with average to low training error. The large gap between the curves typically means that this is a high variance situation and that my model is overfitting. "
   ]
  },
  {
   "cell_type": "code",
   "execution_count": 379,
   "metadata": {},
   "outputs": [
    {
     "name": "stdout",
     "output_type": "stream",
     "text": [
      "Test accuracy: 0.79\n"
     ]
    },
    {
     "data": {
      "text/html": [
       "<div>\n",
       "<style scoped>\n",
       "    .dataframe tbody tr th:only-of-type {\n",
       "        vertical-align: middle;\n",
       "    }\n",
       "\n",
       "    .dataframe tbody tr th {\n",
       "        vertical-align: top;\n",
       "    }\n",
       "\n",
       "    .dataframe thead th {\n",
       "        text-align: right;\n",
       "    }\n",
       "</style>\n",
       "<table border=\"1\" class=\"dataframe\">\n",
       "  <thead>\n",
       "    <tr style=\"text-align: right;\">\n",
       "      <th>Predicted 2</th>\n",
       "      <th>0</th>\n",
       "      <th>1</th>\n",
       "    </tr>\n",
       "    <tr>\n",
       "      <th>Actual</th>\n",
       "      <th></th>\n",
       "      <th></th>\n",
       "    </tr>\n",
       "  </thead>\n",
       "  <tbody>\n",
       "    <tr>\n",
       "      <th>0</th>\n",
       "      <td>134</td>\n",
       "      <td>23</td>\n",
       "    </tr>\n",
       "    <tr>\n",
       "      <th>1</th>\n",
       "      <td>33</td>\n",
       "      <td>77</td>\n",
       "    </tr>\n",
       "  </tbody>\n",
       "</table>\n",
       "</div>"
      ],
      "text/plain": [
       "Predicted 2    0   1\n",
       "Actual              \n",
       "0            134  23\n",
       "1             33  77"
      ]
     },
     "execution_count": 379,
     "metadata": {},
     "output_type": "execute_result"
    }
   ],
   "source": [
    "# train the tree model\n",
    "clf2 = DecisionTreeClassifier(max_depth=4, random_state=0)\n",
    "clf2.fit(X_train, y_train)\n",
    "\n",
    "y_predict2 = clf2.predict(X_test)\n",
    "print(\"Test accuracy: {:.2f}\".format((y_predict2 == y_test).mean()))\n",
    "pd.crosstab(y_test, columns=y_predict2, colnames=['Predicted 2'], rownames=['Actual'])"
   ]
  },
  {
   "cell_type": "code",
   "execution_count": 380,
   "metadata": {},
   "outputs": [
    {
     "data": {
      "image/png": "[encoded data removed]",
      "text/plain": [
       "<Figure size 864x432 with 2 Axes>"
      ]
     },
     "metadata": {
      "needs_background": "light"
     },
     "output_type": "display_data"
    }
   ],
   "source": [
    "train_sizes2, train_scores2, test_scores2 = learning_curve(clf2, X_train, y_train, cv=10, scoring='accuracy')\n",
    "train_scores_mean2 = np.mean(train_scores2, axis=1)\n",
    "test_scores_mean2 = np.mean(test_scores2, axis=1)\n",
    "fig,ax = plt.subplots(1,2, figsize=(12,6))\n",
    "plt.subplots_adjust(wspace=0.5)\n",
    "ax[1].plot(train_sizes2, train_scores_mean2, label='train')\n",
    "ax[1].plot(train_sizes2, test_scores_mean2, label='test')\n",
    "ax[1].set_xlabel('Training set size')\n",
    "ax[1].set_ylabel('Accuracy')\n",
    "ax[1].set_title('Learning curve 2, decision tree, max_depth = 4')\n",
    "ax[1].legend()\n",
    "ax[0].plot(train_sizes, train_scores_mean, label='train')\n",
    "ax[0].plot(train_sizes, test_scores_mean, label='test')\n",
    "ax[0].set_xlabel('Training set size')\n",
    "ax[0].set_ylabel('Accuracy')\n",
    "ax[0].set_title('Learning curve, decision tree, max_depth = 5')\n",
    "ax[0].legend();"
   ]
  },
  {
   "cell_type": "markdown",
   "metadata": {},
   "source": [
    "Honestly, I'm very confused. I tried decreasing max_depth from 5, but other than changing it to 4, the other numbers lowered my test accuracy and made the test learning curve have a few very low spots. Just to cover all bases, I also tried increasing max_depth, and got improvements in test accuracy from values of 6,8,and 9. However, increasing the max_depth definitely made my model overfit, and the training accuracy was extremely high. After comparing the different depths myself, I decided that keeping max_depth=4 was the best in terms of improving test accuracy and lowering overfitting."
   ]
  },
  {
   "cell_type": "markdown",
   "metadata": {
    "id": "-vZarI2shOh_"
   },
   "source": [
    "## Tuning the model"
   ]
  },
  {
   "cell_type": "markdown",
   "metadata": {
    "id": "VcUpUeRrhOiA"
   },
   "source": [
    "_Use grid search with cross validation to tune your model and increase its accuracy._"
   ]
  },
  {
   "cell_type": "code",
   "execution_count": 396,
   "metadata": {},
   "outputs": [
    {
     "data": {
      "text/plain": [
       "{'max_depth': 3}"
      ]
     },
     "execution_count": 396,
     "metadata": {},
     "output_type": "execute_result"
    }
   ],
   "source": [
    "grid={\n",
    "    \"max_depth\":range(1,10),\n",
    "}\n",
    "\n",
    "gridSearch = GridSearchCV(DecisionTreeClassifier(random_state=0), grid, cv=10, scoring='accuracy')\n",
    "gridSearch.fit(X_train, y_train)\n",
    "\n",
    "gridSearch.best_params_"
   ]
  },
  {
   "cell_type": "markdown",
   "metadata": {},
   "source": [
    "Turns out my eyeing the graphs was inaccurate and the best max_depth is 3. "
   ]
  },
  {
   "cell_type": "markdown",
   "metadata": {
    "id": "lrIdABQGhOiA"
   },
   "source": [
    "## Test accuracy of best model"
   ]
  },
  {
   "cell_type": "code",
   "execution_count": 398,
   "metadata": {
    "id": "EnOPBx4chOiA"
   },
   "outputs": [],
   "source": [
    "best = gridSearch.best_estimator_\n",
    "best.fit(X_train, y_train)\n",
    "# train the tree model\n",
    "clf2 = DecisionTreeClassifier(max_depth=4, random_state=0)\n",
    "clf2.fit(X_train, y_train)\n",
    "\n",
    "y_predict2 = clf2.predict(X_test)\n",
    "print(\"Test accuracy: {:.2f}\".format((y_predict2 == y_test).mean()))\n",
    "pd.crosstab(y_test, columns=y_predict2, colnames=['Predicted 2'], rownames=['Actual'])"
   ]
  },
  {
   "cell_type": "markdown",
   "metadata": {
    "id": "48wenD0ehOiA"
   },
   "source": [
    "## Conclusions"
   ]
  },
  {
   "cell_type": "markdown",
   "metadata": {
    "id": "lHwnu_zwhOiA"
   },
   "source": [
    "_Say a little here about your results.  For example, what test accuracy did you achieve?  What was the baseline accuracy?  Which predictors were most important? These are only examples._\n",
    "\n",
    "The highest test accuracy I ended up achieving was 0.79 while my baseline accuracy was 0.59. "
   ]
  }
 ],
 "metadata": {
  "colab": {
   "name": "titanic.ipynb",
   "provenance": []
  },
  "kernelspec": {
   "display_name": "Python 3",
   "language": "python",
   "name": "python3"
  },
  "language_info": {
   "codemirror_mode": {
    "name": "ipython",
    "version": 3
   },
   "file_extension": ".py",
   "mimetype": "text/x-python",
   "name": "python",
   "nbconvert_exporter": "python",
   "pygments_lexer": "ipython3",
   "version": "3.8.2"
  }
 },
 "nbformat": 4,
 "nbformat_minor": 1
}
